{
 "cells": [
  {
   "cell_type": "markdown",
   "metadata": {},
   "source": [
    "1. Union of Sets: Given two sets, create a new set that contains all unique elements from both sets."
   ]
  },
  {
   "cell_type": "code",
   "execution_count": null,
   "metadata": {},
   "outputs": [
    {
     "name": "stdout",
     "output_type": "stream",
     "text": [
      "{'2', 'people', 'Good', 'good', '1'}\n"
     ]
    }
   ],
   "source": [
    "myfirst_set = set(input(\"Please write a set of words for the first set: \").split())\n",
    "mysecond_set = set(input(\"Please write a set of words for the second set: \").split())third_set = myfirst_set.union(mysecond_set)\n",
    "\n",
    "print(third_set)"
   ]
  },
  {
   "cell_type": "markdown",
   "metadata": {},
   "source": [
    "2. Intersection of Sets: Given two sets, create a new set that contains elements common to both sets."
   ]
  },
  {
   "cell_type": "code",
   "execution_count": null,
   "metadata": {},
   "outputs": [
    {
     "name": "stdout",
     "output_type": "stream",
     "text": [
      "{'d', 's'}\n"
     ]
    }
   ],
   "source": [
    "myfourth_set = set(input(\"Please write a set of words for the fourth set: \").split())\n",
    "myfifth_set = set(input(\"Please write a set of words for the fifth set: \").split())\n",
    "\n",
    "mysixth_set = myfourth_set & myfifth_set\n",
    "\n",
    "print(mysixth_set)"
   ]
  },
  {
   "cell_type": "markdown",
   "metadata": {},
   "source": [
    "3. Difference of Sets: Given two sets, create a new set with elements from the first set that are not in the second."
   ]
  },
  {
   "cell_type": "code",
   "execution_count": null,
   "metadata": {},
   "outputs": [
    {
     "name": "stdout",
     "output_type": "stream",
     "text": [
      "{'h'}\n"
     ]
    }
   ],
   "source": [
    "seventh_set = set(input(\"Please write a set of words for the seventh set: \").split())\n",
    "eighth_set = set(input(\"Please write a set of words for the eighth set: \").split())\n",
    "\n",
    "difference_set = seventh_set.difference(eighth_set)\n",
    "print(difference_set)"
   ]
  },
  {
   "cell_type": "markdown",
   "metadata": {},
   "source": [
    "4. Check Subset: Given two sets, check if one set is a subset of the other."
   ]
  },
  {
   "cell_type": "code",
   "execution_count": null,
   "metadata": {},
   "outputs": [],
   "source": [
    "ninth_set = set(input(\"Please write a set of words for the ninth set: \").split())\n",
    "tenth_set = set(input(\"Please write a set of words for the tenth set: \").split())\n",
    "\n",
    "is_subset = ninth_set <= tenth_set\n",
    "\n",
    "print(is_subset)"
   ]
  },
  {
   "cell_type": "markdown",
   "metadata": {},
   "source": [
    "5. Check Element: Given a set and an element, check if the element exists in the set."
   ]
  },
  {
   "cell_type": "code",
   "execution_count": 5,
   "metadata": {},
   "outputs": [
    {
     "name": "stdout",
     "output_type": "stream",
     "text": [
      "True\n"
     ]
    }
   ],
   "source": [
    "check_element = set(input(\"Give words for a set: \").split())\n",
    "checking_element = input(\"Give a word you want see if it is in the set: \")\n",
    "\n",
    "\n",
    "print(checking_element in check_element)"
   ]
  },
  {
   "cell_type": "markdown",
   "metadata": {},
   "source": [
    "6. Set Length: Determine the number of unique elements in a set."
   ]
  },
  {
   "cell_type": "code",
   "execution_count": 7,
   "metadata": {},
   "outputs": [
    {
     "name": "stdout",
     "output_type": "stream",
     "text": [
      "3\n"
     ]
    }
   ],
   "source": [
    "set_length = set(input(\"Give words for a set: \").split())\n",
    "\n",
    "print(len(set_length))"
   ]
  },
  {
   "cell_type": "markdown",
   "metadata": {},
   "source": [
    "7. Convert List to Set: Given a list, create a new set that contains only the unique elements from that list."
   ]
  },
  {
   "cell_type": "code",
   "execution_count": 8,
   "metadata": {},
   "outputs": [
    {
     "name": "stdout",
     "output_type": "stream",
     "text": [
      "{'three', 'two', 'one'}\n"
     ]
    }
   ],
   "source": [
    "list_for_set = list(input(\"Give words for a set: \").split())\n",
    "\n",
    "unique_set = set(list_for_set)\n",
    "\n",
    "print(unique_set)\n"
   ]
  },
  {
   "cell_type": "markdown",
   "metadata": {},
   "source": [
    "8. Remove Element: Given a set and an element, remove the element if it exists."
   ]
  },
  {
   "cell_type": "code",
   "execution_count": null,
   "metadata": {},
   "outputs": [
    {
     "name": "stdout",
     "output_type": "stream",
     "text": [
      "{'two'}\n"
     ]
    }
   ],
   "source": [
    "remove_element_set = set(input(\"Give words for a set: \").split())\n",
    "removing_element = input(\"Give me the word to remove: \")\n",
    "\n",
    "if removing_element in remove_element_set:\n",
    "    remove_element_set.remove(removing_element)\n",
    "else:\n",
    "    print(\"The set doesn't have that element!\")\n",
    "\n",
    "print(remove_element_set)"
   ]
  },
  {
   "cell_type": "markdown",
   "metadata": {},
   "source": [
    "9. Clear Set: Create a new empty set from an existing set."
   ]
  },
  {
   "cell_type": "code",
   "execution_count": 12,
   "metadata": {},
   "outputs": [
    {
     "name": "stdout",
     "output_type": "stream",
     "text": [
      "set()\n"
     ]
    }
   ],
   "source": [
    "clear_set = set(input(\"Give words for a set: \").split())\n",
    "\n",
    "clear_set.clear()\n",
    "\n",
    "print(clear_set)"
   ]
  },
  {
   "cell_type": "markdown",
   "metadata": {},
   "source": [
    "10. Check if Set is Empty: Determine if a set has any elements."
   ]
  },
  {
   "cell_type": "code",
   "execution_count": null,
   "metadata": {},
   "outputs": [
    {
     "name": "stdout",
     "output_type": "stream",
     "text": [
      "It will True if the set has smth inside, otherwise it will be False:  False\n",
      "It will True if the set has smth inside, otherwise it will be False:  True\n"
     ]
    }
   ],
   "source": [
    "empty_set = set()\n",
    "full_set = {1,2,3,4}\n",
    "\n",
    "print(\"It will True if the set has smth inside, otherwise it will be False: \", len(empty_set) >0)\n",
    "print(\"It will True if the set has smth inside, otherwise it will be False: \", len(full_set) >0)"
   ]
  },
  {
   "cell_type": "markdown",
   "metadata": {},
   "source": [
    "11. Symmetric Difference: Given two sets, create a new set that contains elements that are in either set but not in both."
   ]
  },
  {
   "cell_type": "code",
   "execution_count": 15,
   "metadata": {},
   "outputs": [
    {
     "name": "stdout",
     "output_type": "stream",
     "text": [
      "{4, 5, 6}\n"
     ]
    }
   ],
   "source": [
    "symm_diff_1 = {1,2,3,4}\n",
    "symm_diff_2 = {1,2,3,5,6}\n",
    "\n",
    "symm_diff_0 = symm_diff_1.symmetric_difference(symm_diff_2)\n",
    "\n",
    "print(symm_diff_0)"
   ]
  },
  {
   "cell_type": "markdown",
   "metadata": {},
   "source": [
    "12. Add Element: Given a set and an element, add the element to the set if it is not already present."
   ]
  },
  {
   "cell_type": "code",
   "execution_count": 16,
   "metadata": {},
   "outputs": [
    {
     "name": "stdout",
     "output_type": "stream",
     "text": [
      "It is already in the set!\n",
      "{'three', 'two', 'one'}\n"
     ]
    }
   ],
   "source": [
    "add_element_set = set(input(\"Give words for a set: \").split())\n",
    "adding_element = input(\"Give me the word to add: \")\n",
    "\n",
    "if adding_element in add_element_set:\n",
    "    print(\"It is already in the set!\")\n",
    "else:\n",
    "    add_element_set.add(adding_element)\n",
    "\n",
    "print(add_element_set)"
   ]
  },
  {
   "cell_type": "markdown",
   "metadata": {},
   "source": [
    "13. Pop Element: Given a set, remove and return an arbitrary element from the set."
   ]
  },
  {
   "cell_type": "code",
   "execution_count": 17,
   "metadata": {},
   "outputs": [
    {
     "name": "stdout",
     "output_type": "stream",
     "text": [
      "Removed element: three\n",
      "Updated set: {'two', 'one'}\n"
     ]
    }
   ],
   "source": [
    "popping_set = set(input(\"Give words for a set: \").split())\n",
    "\n",
    "popped_element = popping_set.pop()\n",
    "\n",
    "print(\"Removed element:\", popped_element)\n",
    "print(\"Updated set:\", popping_set)"
   ]
  },
  {
   "cell_type": "markdown",
   "metadata": {},
   "source": [
    "14. Find Maximum: From a given set of numbers, find the maximum element."
   ]
  },
  {
   "cell_type": "code",
   "execution_count": 22,
   "metadata": {},
   "outputs": [
    {
     "name": "stdout",
     "output_type": "stream",
     "text": [
      "123477\n"
     ]
    }
   ],
   "source": [
    "maximum_set = set(input(\"Give words for a set: \").split())\n",
    "\n",
    "print(max(maximum_set))"
   ]
  },
  {
   "cell_type": "markdown",
   "metadata": {},
   "source": [
    "15. Find Minimum: From a given set of numbers, find the minimum element."
   ]
  },
  {
   "cell_type": "code",
   "execution_count": 23,
   "metadata": {},
   "outputs": [
    {
     "name": "stdout",
     "output_type": "stream",
     "text": [
      "1\n"
     ]
    }
   ],
   "source": [
    "minimum_set = set(input(\"Give words for a set: \").split())\n",
    "\n",
    "print(min(minimum_set))"
   ]
  },
  {
   "cell_type": "markdown",
   "metadata": {},
   "source": [
    "16. Filter Even Numbers: Given a set of integers, create a new set that contains only the even numbers."
   ]
  },
  {
   "cell_type": "code",
   "execution_count": 27,
   "metadata": {},
   "outputs": [
    {
     "name": "stdout",
     "output_type": "stream",
     "text": [
      "Even numbers: {2, 4, 6, 8, 10}\n"
     ]
    }
   ],
   "source": [
    "num_set = set(map(int, input(\"Enter numbers separated by spaces: \").split()))\n",
    "\n",
    "even_set = set()\n",
    "\n",
    "for num in num_set:\n",
    "    if num % 2 == 0:\n",
    "        even_set.add(num)\n",
    "\n",
    "print(\"Even numbers:\", even_set)"
   ]
  },
  {
   "cell_type": "markdown",
   "metadata": {},
   "source": [
    "17. Filter Odd Numbers: Given a set of integers, create a new set that contains only the odd numbers."
   ]
  },
  {
   "cell_type": "code",
   "execution_count": 26,
   "metadata": {},
   "outputs": [
    {
     "name": "stdout",
     "output_type": "stream",
     "text": [
      "Even numbers: {1, 3, 5}\n"
     ]
    }
   ],
   "source": [
    "num_set = set(map(int, input(\"Enter numbers separated by spaces: \").split()))\n",
    "\n",
    "odd_set = set()\n",
    "\n",
    "for num in num_set:\n",
    "    if num % 2 != 0:\n",
    "        odd_set.add(num)\n",
    "\n",
    "print(\"Even numbers:\", odd_set)"
   ]
  },
  {
   "cell_type": "markdown",
   "metadata": {},
   "source": [
    "18. Create a Set of a Range: Create a set of numbers in a specified range (e.g., from 1 to 10)."
   ]
  },
  {
   "cell_type": "code",
   "execution_count": 29,
   "metadata": {},
   "outputs": [
    {
     "name": "stdout",
     "output_type": "stream",
     "text": [
      "{1, 2, 3, 4, 5, 6, 7, 8, 9, 10}\n"
     ]
    }
   ],
   "source": [
    "range_set = set(range(1,11))\n",
    "\n",
    "print(range_set)"
   ]
  },
  {
   "cell_type": "markdown",
   "metadata": {},
   "source": [
    "19. Merge and Deduplicate: Given two lists, create a new set that merges both lists and removes duplicates."
   ]
  },
  {
   "cell_type": "code",
   "execution_count": 30,
   "metadata": {},
   "outputs": [
    {
     "name": "stdout",
     "output_type": "stream",
     "text": [
      "Here is the merged set:  {'2', '5', '6', '3', '4', '66', '1'}\n"
     ]
    }
   ],
   "source": [
    "list1 = input(\"Enter the first list: \").split()\n",
    "list2 = input(\"Enter the second list: \").split()\n",
    "\n",
    "merged = set(list1 + list2)\n",
    "\n",
    "print(\"Here is the merged set: \", merged)"
   ]
  },
  {
   "cell_type": "markdown",
   "metadata": {},
   "source": [
    "20. Check Disjoint Sets: Given two sets, check if they have no elements in common."
   ]
  },
  {
   "cell_type": "code",
   "execution_count": 34,
   "metadata": {},
   "outputs": [
    {
     "name": "stdout",
     "output_type": "stream",
     "text": [
      "Set 1: {'three', 'two', 'one'}\n",
      "Set 2: {'four', 'five', 'six'}\n",
      "Are the sets disjoint? True\n"
     ]
    }
   ],
   "source": [
    "disjoint_set_1 = set(input(\"Give words for the first set: \").split())\n",
    "disjoint_set_2 = set(input(\"Give words for the second set: \").split())\n",
    "\n",
    "print(\"Set 1:\", disjoint_set_1)\n",
    "print(\"Set 2:\", disjoint_set_2)\n",
    "\n",
    "print(\"Are the sets disjoint?\", disjoint_set_1.isdisjoint(disjoint_set_2))\n"
   ]
  },
  {
   "cell_type": "markdown",
   "metadata": {},
   "source": [
    "21. Remove Duplicates from a List: Given a list, create a set from it to remove duplicates, then convert back to a list."
   ]
  },
  {
   "cell_type": "code",
   "execution_count": 35,
   "metadata": {},
   "outputs": [
    {
     "name": "stdout",
     "output_type": "stream",
     "text": [
      "['one', 'two', 'two', 'two', 'three', 'four']\n",
      "['four', 'three', 'two', 'one']\n"
     ]
    }
   ],
   "source": [
    "first_list_for_duplicates = list(input(\"Give me anything for the list, even duplicates: \").split())\n",
    "\n",
    "temporary = list(set(first_list_for_duplicates))\n",
    "\n",
    "print(first_list_for_duplicates)\n",
    "\n",
    "print(temporary)\n"
   ]
  },
  {
   "cell_type": "markdown",
   "metadata": {},
   "source": [
    "22. Count Unique Elements: Given a list, determine the count of unique elements using a set."
   ]
  },
  {
   "cell_type": "code",
   "execution_count": 36,
   "metadata": {},
   "outputs": [
    {
     "name": "stdout",
     "output_type": "stream",
     "text": [
      "The number of unique elements in the words is:  3\n"
     ]
    }
   ],
   "source": [
    "not_unique_list = list(input(\"Give me a list of words: \").split())\n",
    "unique_list = set(not_unique_list)\n",
    "\n",
    "print(\"The number of unique elements in the words is: \", len(unique_list))"
   ]
  },
  {
   "cell_type": "markdown",
   "metadata": {},
   "source": [
    "23. Generate Random Set: Create a set with a specified number of random integers within a certain range."
   ]
  },
  {
   "cell_type": "code",
   "execution_count": 39,
   "metadata": {},
   "outputs": [
    {
     "name": "stdout",
     "output_type": "stream",
     "text": [
      "Generated random set: {2, 35, 8, 40, 46, 15, 17, 50, 21, 24}\n"
     ]
    }
   ],
   "source": [
    "import random\n",
    "\n",
    "set_size = int(input(\"How many random numbers do you want? \"))\n",
    "\n",
    "\n",
    "min_value = int(input(\"Enter the minimum value: \"))\n",
    "max_value = int(input(\"Enter the maximum value: \"))\n",
    "\n",
    "\n",
    "if set_size > (max_value - min_value + 1):\n",
    "    print(\"Error: The set size is too large for the given range.\")\n",
    "else:\n",
    "    random_set = set(random.sample(range(min_value, max_value + 1), set_size))\n",
    "\n",
    "\n",
    "    print(\"Generated random set:\", random_set)\n",
    "\n"
   ]
  }
 ],
 "metadata": {
  "kernelspec": {
   "display_name": "Python 3",
   "language": "python",
   "name": "python3"
  },
  "language_info": {
   "codemirror_mode": {
    "name": "ipython",
    "version": 3
   },
   "file_extension": ".py",
   "mimetype": "text/x-python",
   "name": "python",
   "nbconvert_exporter": "python",
   "pygments_lexer": "ipython3",
   "version": "3.10.10"
  }
 },
 "nbformat": 4,
 "nbformat_minor": 2
}
