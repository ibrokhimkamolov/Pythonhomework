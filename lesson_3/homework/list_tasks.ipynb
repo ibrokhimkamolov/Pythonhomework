{
 "cells": [
  {
   "cell_type": "markdown",
   "metadata": {},
   "source": [
    "1. Count Occurrences: Given a list and an element, find how many times the element appears in the list."
   ]
  },
  {
   "cell_type": "code",
   "execution_count": 15,
   "metadata": {},
   "outputs": [
    {
     "name": "stdout",
     "output_type": "stream",
     "text": [
      "2\n"
     ]
    }
   ],
   "source": [
    "list1 = ['apple', 'banana', 'some_other_fruits', 'apple']\n",
    "\n",
    "print(list1.count('apple'))"
   ]
  },
  {
   "cell_type": "markdown",
   "metadata": {},
   "source": [
    "2. Sum of Elements: Given a list of numbers, calculate the total of all the elements."
   ]
  },
  {
   "cell_type": "code",
   "execution_count": 16,
   "metadata": {},
   "outputs": [
    {
     "name": "stdout",
     "output_type": "stream",
     "text": [
      "55\n"
     ]
    }
   ],
   "source": [
    "#the way that I found is after searching the net, so I found the sum function\n",
    "\n",
    "listnumbers=[1,2,3,4,5,6,7,8,9,10]\n",
    "\n",
    "print(sum(listnumbers))"
   ]
  },
  {
   "cell_type": "markdown",
   "metadata": {},
   "source": [
    "3. Max Element: From a given list, determine the largest element."
   ]
  },
  {
   "cell_type": "code",
   "execution_count": 17,
   "metadata": {},
   "outputs": [
    {
     "name": "stdout",
     "output_type": "stream",
     "text": [
      "7\n"
     ]
    }
   ],
   "source": [
    "#this returns the largest number\n",
    "largestelement = [1,2,3,4,5,7]\n",
    "\n",
    "largestelement.sort(reverse= True)\n",
    "print(largestelement[0])"
   ]
  },
  {
   "cell_type": "markdown",
   "metadata": {},
   "source": [
    "4. Min Element: From a given list, determine the smallest element."
   ]
  },
  {
   "cell_type": "code",
   "execution_count": 18,
   "metadata": {},
   "outputs": [
    {
     "name": "stdout",
     "output_type": "stream",
     "text": [
      "0\n"
     ]
    }
   ],
   "source": [
    "smallestelement = [1,0,6,9,2,3,4,5,6,7]\n",
    "\n",
    "smallestelement.sort()\n",
    "print(smallestelement[0])"
   ]
  },
  {
   "cell_type": "markdown",
   "metadata": {},
   "source": [
    "5. Check Element: Given a list and an element, check if the element is present in the list."
   ]
  },
  {
   "cell_type": "code",
   "execution_count": 19,
   "metadata": {},
   "outputs": [
    {
     "name": "stdout",
     "output_type": "stream",
     "text": [
      "True\n"
     ]
    }
   ],
   "source": [
    "#I didn't really know how to solve, so one way I found is with the help of in\n",
    "checkelements = input(\"Enter a list of elements separated by spaces: \").split()\n",
    "\n",
    "checkingelement = input(\"Enter the element to check: \")\n",
    "\n",
    "print(bool(checkingelement in checkelements))"
   ]
  },
  {
   "cell_type": "markdown",
   "metadata": {},
   "source": [
    "6. First Element: Access the first element of a list, considering what to return if the list is empty."
   ]
  },
  {
   "cell_type": "code",
   "execution_count": 23,
   "metadata": {},
   "outputs": [
    {
     "name": "stdout",
     "output_type": "stream",
     "text": [
      "1\n"
     ]
    }
   ],
   "source": [
    "list3 = [1]\n",
    "\n",
    "if len(list3) > 0:\n",
    "    print(list3[0])\n",
    "else:\n",
    "    print(\"The list is empty\")"
   ]
  },
  {
   "cell_type": "markdown",
   "metadata": {},
   "source": [
    "7. Last Element: Access the last element of a list, considering what to return if the list is empty."
   ]
  },
  {
   "cell_type": "code",
   "execution_count": 24,
   "metadata": {},
   "outputs": [
    {
     "name": "stdout",
     "output_type": "stream",
     "text": [
      "2\n"
     ]
    }
   ],
   "source": [
    "list4 = [1,2]\n",
    "\n",
    "if len(list4) > 0:\n",
    "    print(list4[-1])\n",
    "else:\n",
    "    print(\"The list is empty\")"
   ]
  },
  {
   "cell_type": "markdown",
   "metadata": {},
   "source": [
    "8. Slice List: Create a new list that contains only the first three elements of the original list."
   ]
  },
  {
   "cell_type": "code",
   "execution_count": 26,
   "metadata": {},
   "outputs": [
    {
     "name": "stdout",
     "output_type": "stream",
     "text": [
      "[1, 2, 3, 4, 5] [1, 2, 3]\n"
     ]
    }
   ],
   "source": [
    "list5 = [1,2,3,4,5]\n",
    "list6 = list5[0:3]\n",
    "\n",
    "print(list5, list6)"
   ]
  },
  {
   "cell_type": "markdown",
   "metadata": {},
   "source": [
    "9. Reverse List: Create a new list that contains the elements of the original list in reverse order."
   ]
  },
  {
   "cell_type": "code",
   "execution_count": null,
   "metadata": {},
   "outputs": [
    {
     "name": "stdout",
     "output_type": "stream",
     "text": [
      "[1, 2, 3, 4, 5] [5, 4, 3, 2, 1]\n",
      "[1, 2, 3, 4, 5, 67] [5, 4, 3, 2, 1]\n"
     ]
    }
   ],
   "source": [
    "list7 = [1,2,3,4,5]\n",
    "list8 = list7[::-1]\n",
    "\n",
    "print(list7, list8)\n"
   ]
  },
  {
   "cell_type": "markdown",
   "metadata": {},
   "source": [
    "10. Sort List: Create a new list that contains the elements of the original list in sorted order."
   ]
  },
  {
   "cell_type": "code",
   "execution_count": 30,
   "metadata": {},
   "outputs": [
    {
     "name": "stdout",
     "output_type": "stream",
     "text": [
      "[1, 4, 3, 6, 4, 7, 9, 7] [1, 3, 4, 4, 6, 7, 7, 9]\n"
     ]
    }
   ],
   "source": [
    "list9 = [1,4,3,6,4,7,9,7]\n",
    "list10 = sorted(list9)\n",
    "\n",
    "print(list9, list10)"
   ]
  },
  {
   "cell_type": "markdown",
   "metadata": {},
   "source": [
    "11. Remove Duplicates: Given a list, create a new list that contains only unique elements from the original list."
   ]
  },
  {
   "cell_type": "code",
   "execution_count": 32,
   "metadata": {},
   "outputs": [
    {
     "name": "stdout",
     "output_type": "stream",
     "text": [
      "[1, 1, 1, 1, 1, 1, 2, 2, 2, 2, 2, 23, 3, 3, 3, 3, 3, 3, 34, 4, 4, 4, 4, 4, 5, 5] [1, 2, 3, 34, 4, 5, 23]\n"
     ]
    }
   ],
   "source": [
    "list11 = [1,1,1,1,1,1,2,2,2,2,2,23,3,3,3,3,3,3,34,4,4,4,4,4,5,5]\n",
    "uniquelist = list(set(list11))\n",
    "\n",
    "print(list11, uniquelist)"
   ]
  },
  {
   "cell_type": "markdown",
   "metadata": {},
   "source": [
    "12. Insert Element: Given a list and an element, insert the element at a specified index."
   ]
  },
  {
   "cell_type": "code",
   "execution_count": 33,
   "metadata": {},
   "outputs": [
    {
     "name": "stdout",
     "output_type": "stream",
     "text": [
      "Updated list:  ['hmmm', 'good', 'people', 'hellooooo']\n"
     ]
    }
   ],
   "source": [
    "insertelements = input(\"Enter a list of elements separated by spaces: \").split()\n",
    "\n",
    "insertingelement = input(\"Enter the element to insert: \")\n",
    "\n",
    "insertingplace = int(input(\"Enter the index to insert at: \"))\n",
    "\n",
    "insertelements.insert(insertingplace, insertingelement)\n",
    "\n",
    "print(\"Updated list: \", insertelements)"
   ]
  },
  {
   "cell_type": "markdown",
   "metadata": {},
   "source": [
    "13. Index of Element: Given a list and an element, find the index of the first occurrence of the element."
   ]
  },
  {
   "cell_type": "code",
   "execution_count": 34,
   "metadata": {},
   "outputs": [
    {
     "name": "stdout",
     "output_type": "stream",
     "text": [
      "Index: 0\n"
     ]
    }
   ],
   "source": [
    "indexingelements = input(\"Enter a list of elements separated by spaces: \").split()\n",
    "\n",
    "findingelement = input(\"Enter the element to find: \")\n",
    "\n",
    "print(\"Index:\", indexingelements.index(findingelement))"
   ]
  },
  {
   "cell_type": "markdown",
   "metadata": {},
   "source": [
    "14. Check for Empty List: Determine if a list is empty and return a boolean."
   ]
  },
  {
   "cell_type": "code",
   "execution_count": 35,
   "metadata": {},
   "outputs": [
    {
     "name": "stdout",
     "output_type": "stream",
     "text": [
      "The list is empty\n"
     ]
    }
   ],
   "source": [
    "list4 = []\n",
    "\n",
    "if len(list4) > 0:\n",
    "    print(list4[-1])\n",
    "else:\n",
    "    print(\"The list is empty\")"
   ]
  },
  {
   "cell_type": "markdown",
   "metadata": {},
   "source": [
    "15. Count Even Numbers: Given a list of integers, count how many of them are even."
   ]
  },
  {
   "cell_type": "code",
   "execution_count": 36,
   "metadata": {},
   "outputs": [
    {
     "name": "stdout",
     "output_type": "stream",
     "text": [
      "1\n"
     ]
    }
   ],
   "source": [
    "evennumbers = input(\"Enter 3 numbers: \").split()\n",
    "\n",
    "even_count = (int(evennumbers[0]) % 2 == 0) + (int(evennumbers[1]) % 2 == 0) + (int(evennumbers[2]) % 2 == 0) \n",
    "print(even_count)"
   ]
  },
  {
   "cell_type": "markdown",
   "metadata": {},
   "source": [
    "16. Count Odd Numbers: Given a list of integers, count how many of them are odd."
   ]
  },
  {
   "cell_type": "code",
   "execution_count": 37,
   "metadata": {},
   "outputs": [
    {
     "name": "stdout",
     "output_type": "stream",
     "text": [
      "2\n"
     ]
    }
   ],
   "source": [
    "oddnumbers = input(\"Enter 3 numbers: \").split()\n",
    "\n",
    "odd_count = (int(oddnumbers[0]) % 2 == 1) + (int(oddnumbers[1]) % 2 == 1) + (int(oddnumbers[2]) % 2 == 1) \n",
    "print(odd_count)"
   ]
  },
  {
   "cell_type": "markdown",
   "metadata": {},
   "source": [
    "17. Concatenate Lists: Given two lists, create a new list that combines both lists."
   ]
  },
  {
   "cell_type": "code",
   "execution_count": 40,
   "metadata": {},
   "outputs": [
    {
     "name": "stdout",
     "output_type": "stream",
     "text": [
      "None\n"
     ]
    }
   ],
   "source": [
    "concate = input(\"Enter the first list: \").split()\n",
    "concate2 = input(\"Enter the second list: \").split()\n",
    "\n",
    "concate3 = concate.extend(concate2)\n",
    "\n",
    "print(concate3)"
   ]
  },
  {
   "cell_type": "markdown",
   "metadata": {},
   "source": [
    "18. Find Sublist: Given a list and a sublist, check if the sublist exists within the list."
   ]
  },
  {
   "cell_type": "code",
   "execution_count": 1,
   "metadata": {},
   "outputs": [
    {
     "name": "stdout",
     "output_type": "stream",
     "text": [
      "True\n"
     ]
    }
   ],
   "source": [
    "main_list = input(\"Enter the main list: \").split()\n",
    "sub_list = input(\"Enter the sublist: \").split()\n",
    "\n",
    "result = str(sub_list) in str(main_list)\n",
    "\n",
    "print(result)"
   ]
  },
  {
   "cell_type": "markdown",
   "metadata": {},
   "source": [
    "19. Replace Element: Given a list, replace the first occurrence of a specified element with another element."
   ]
  },
  {
   "cell_type": "code",
   "execution_count": null,
   "metadata": {},
   "outputs": [
    {
     "name": "stdout",
     "output_type": "stream",
     "text": [
      "['Ibrokhim', 'Sardor', 'Lola'] 1\n",
      "['Ibrokhim', 'Papa', 'Lola']\n"
     ]
    }
   ],
   "source": [
    "#this was confusing\n",
    "\n",
    "replacementelement = input(\"Enter the main list: \").split()\n",
    "elementbeingreplaced = input(\"Enter the element that you want to replace: \")\n",
    "thereplacingelement = input(\"Enter the element that should be replacing: \")\n",
    "\n",
    "findingthebeingreplaced = replacementelement.index(elementbeingreplaced)\n",
    "print(replacementelement, findingthebeingreplaced)\n",
    "insertingtheelement = replacementelement.insert(findingthebeingreplaced, thereplacingelement)\n",
    "replacementelement.remove(elementbeingreplaced)\n",
    "\n",
    "print(replacementelement)\n",
    "\n"
   ]
  },
  {
   "cell_type": "markdown",
   "metadata": {},
   "source": [
    "20. Find Second Largest: From a given list, find the second largest element."
   ]
  },
  {
   "cell_type": "code",
   "execution_count": 13,
   "metadata": {},
   "outputs": [
    {
     "name": "stdout",
     "output_type": "stream",
     "text": [
      "['q', 'qw', 'qwe', 'qwer', 'qwert', 'qwerty']\n",
      "qwert\n"
     ]
    }
   ],
   "source": [
    "#I didn't really get if I should find the largest number or the word\n",
    "second_largest_finder = input(\"Enter the element into the list: \").split()\n",
    "\n",
    "making_the_order = sorted(second_largest_finder, key=lambda x: len(x))\n",
    "\n",
    "print(making_the_order)\n",
    "print(making_the_order[-2])\n"
   ]
  },
  {
   "cell_type": "markdown",
   "metadata": {},
   "source": [
    "21. Find Second Smallest: From a given list, find the second smallest element."
   ]
  },
  {
   "cell_type": "code",
   "execution_count": 14,
   "metadata": {},
   "outputs": [
    {
     "name": "stdout",
     "output_type": "stream",
     "text": [
      "['q', 'qw', 'qwe', 'qwer', 'qwert', 'qwerty']\n",
      "qw\n"
     ]
    }
   ],
   "source": [
    "second_smallest_finder = input(\"Enter the element into the list: \").split()\n",
    "\n",
    "making_the_order_for_this = sorted(second_smallest_finder, key=lambda x: len(x))\n",
    "\n",
    "print(making_the_order_for_this)\n",
    "print(making_the_order_for_this[1])"
   ]
  },
  {
   "cell_type": "markdown",
   "metadata": {},
   "source": [
    "22. Filter Even Numbers: Given a list of integers, create a new list that contains only the even numbers."
   ]
  },
  {
   "cell_type": "code",
   "execution_count": null,
   "metadata": {},
   "outputs": [
    {
     "name": "stdout",
     "output_type": "stream",
     "text": [
      "[2, 4, 6, 8, 10]\n"
     ]
    }
   ],
   "source": [
    "#this one is kinda tough, because you didn't really teach the if, for or map stuff, but asking for this, so I had to google and try to learn them\n",
    "\n",
    "before_even_numbers = list(map(int, input(\"Enter the numbers separated by space: \").split()))\n",
    "\n",
    "empty_even_num_list = []\n",
    "\n",
    "for n in before_even_numbers:\n",
    "    if n % 2 == 0:\n",
    "        empty_even_num_list.append(n)\n",
    "\n",
    "print(empty_even_num_list)"
   ]
  },
  {
   "cell_type": "markdown",
   "metadata": {},
   "source": [
    "23. Filter Odd Numbers: Given a list of integers, create a new list that contains only the odd numbers."
   ]
  },
  {
   "cell_type": "code",
   "execution_count": 16,
   "metadata": {},
   "outputs": [
    {
     "name": "stdout",
     "output_type": "stream",
     "text": [
      "[1, 3, 5, 7, 9]\n"
     ]
    }
   ],
   "source": [
    "#this one is kinda tough, because you didn't really teach the if, for or map stuff, but asking for this, so I had to google and try to learn them\n",
    "\n",
    "before_odd_numbers = list(map(int, input(\"Enter the numbers separated by space: \").split()))\n",
    "\n",
    "empty_odd_num_list = []\n",
    "\n",
    "for n in before_even_numbers:\n",
    "    if n % 2 != 0:\n",
    "        empty_odd_num_list.append(n)\n",
    "\n",
    "print(empty_odd_num_list)"
   ]
  },
  {
   "cell_type": "markdown",
   "metadata": {},
   "source": [
    "24. List Length: Determine the number of elements in the list."
   ]
  },
  {
   "cell_type": "code",
   "execution_count": 17,
   "metadata": {},
   "outputs": [
    {
     "name": "stdout",
     "output_type": "stream",
     "text": [
      "[1, 2, 3, 4, 5, 6, 7]\n",
      "There are this many elements in the list : 7\n"
     ]
    }
   ],
   "source": [
    "number_of_elements_list = [1, 2, 3, 4, 5 , 6, 7]\n",
    "print(number_of_elements_list)\n",
    "print(\"There are this many elements in the list :\", len(number_of_elements_list))\n"
   ]
  },
  {
   "cell_type": "markdown",
   "metadata": {},
   "source": [
    "25. Create a Copy: Create a new list that is a copy of the original list.\n"
   ]
  },
  {
   "cell_type": "code",
   "execution_count": 19,
   "metadata": {},
   "outputs": [
    {
     "name": "stdout",
     "output_type": "stream",
     "text": [
      "[1, 2, 3] [1, 2, 3]\n",
      "2912088949888\n",
      "2912071983296\n"
     ]
    }
   ],
   "source": [
    "original_list = [1, 2, 3]\n",
    "copy_list = original_list.copy()\n",
    "\n",
    "print(original_list, copy_list)\n",
    "\n",
    "print(id(original_list))\n",
    "print(id(copy_list))"
   ]
  },
  {
   "cell_type": "markdown",
   "metadata": {},
   "source": [
    "26. Get Middle Element: Given a list, find the middle element. If the list has an even number of elements, return the two middle elements."
   ]
  },
  {
   "cell_type": "code",
   "execution_count": null,
   "metadata": {},
   "outputs": [],
   "source": [
    "#this is not even in the topic, how do you expect me to solve it?"
   ]
  },
  {
   "cell_type": "markdown",
   "metadata": {},
   "source": [
    "27. Find Maximum of Sublist: Given a list, find the maximum element of a specified sublist."
   ]
  },
  {
   "cell_type": "code",
   "execution_count": 30,
   "metadata": {},
   "outputs": [
    {
     "name": "stdout",
     "output_type": "stream",
     "text": [
      "['go', 'we', 'have', 'people']\n",
      "['People', 'here', 'we', ['go', 'we', 'have', 'people']]\n",
      "people\n"
     ]
    }
   ],
   "source": [
    "elements_of_main_max_list = list(input(\"Enter a list of 3 names separated by spaces: \").split())\n",
    "\n",
    "elements_of_sub_max_list = list(input(\"Enter a list of 3 names separated by spaces: \").split())\n",
    "\n",
    "print(elements_of_sub_max_list)\n",
    "\n",
    "copy_of_sub_list = sorted(elements_of_sub_max_list, key=lambda x: len(x))\n",
    "\n",
    "elements_of_main_max_list.append(copy_of_sub_list)\n",
    "\n",
    "print(elements_of_main_max_list)\n",
    "\n",
    "print(elements_of_main_max_list[3][-1])"
   ]
  },
  {
   "cell_type": "markdown",
   "metadata": {},
   "source": [
    "28. Find Minimum of Sublist: Given a list, find the minimum element of a specified sublist."
   ]
  },
  {
   "cell_type": "code",
   "execution_count": 32,
   "metadata": {},
   "outputs": [
    {
     "name": "stdout",
     "output_type": "stream",
     "text": [
      "['people', 'here', 'so']\n",
      "['there', 'are', '5', ['so', 'here', 'people']]\n",
      "so\n"
     ]
    }
   ],
   "source": [
    "elements_of_main_min_list = list(input(\"Enter a list of 3 names separated by spaces: \").split())\n",
    "\n",
    "elements_of_sub_min_list = list(input(\"Enter a list of names separated by spaces: \").split())\n",
    "\n",
    "print(elements_of_sub_min_list)\n",
    "\n",
    "copy_of_sub_list = sorted(elements_of_sub_min_list, key=lambda x: len(x))\n",
    "\n",
    "elements_of_main_min_list.append(copy_of_sub_list)\n",
    "\n",
    "print(elements_of_main_min_list)\n",
    "\n",
    "print(elements_of_main_min_list[3][0])\n",
    "\n",
    "\n"
   ]
  },
  {
   "cell_type": "markdown",
   "metadata": {},
   "source": [
    "29. Remove Element by Index: Given a list and an index, remove the element at that index if it exists."
   ]
  },
  {
   "cell_type": "code",
   "execution_count": 34,
   "metadata": {},
   "outputs": [
    {
     "name": "stdout",
     "output_type": "stream",
     "text": [
      "['people', 'here', 'we', 'go']\n",
      "['people', 'here', 'go']\n"
     ]
    }
   ],
   "source": [
    "list_before_popping = list(input(\"enter a list of elements\").split())\n",
    "popping_index = int (input(\"Enter the index under what you want to pop the element out: \"))\n",
    "\n",
    "print(list_before_popping)\n",
    "list_before_popping.pop(popping_index)\n",
    "\n",
    "print(list_before_popping)"
   ]
  },
  {
   "cell_type": "markdown",
   "metadata": {},
   "source": [
    "30. Check if List is Sorted: Determine if the list is sorted in ascending order and return a boolean."
   ]
  },
  {
   "cell_type": "code",
   "execution_count": 39,
   "metadata": {},
   "outputs": [
    {
     "name": "stdout",
     "output_type": "stream",
     "text": [
      "[23, 532, 123, 1, 2, 3]\n",
      "[1, 2, 3, 23, 123, 532]\n",
      "It will print True if the list is sorted, and it will print False if it wasn't:  False\n"
     ]
    }
   ],
   "source": [
    "input_list = list(map(int, input(\"Enter a list of numbers\").split()))\n",
    "\n",
    "my_list_before = input_list.copy()\n",
    "\n",
    "my_list_before.sort()\n",
    "\n",
    "print(input_list)\n",
    "print(my_list_before)\n",
    "\n",
    "print(\"It will print True if the list is sorted, and it will print False if it wasn't: \", my_list_before == input_list )"
   ]
  },
  {
   "cell_type": "markdown",
   "metadata": {},
   "source": [
    "31. Repeat Elements: Given a list and a number, create a new list where each element is repeated that number of times."
   ]
  },
  {
   "cell_type": "code",
   "execution_count": 41,
   "metadata": {},
   "outputs": [
    {
     "name": "stdout",
     "output_type": "stream",
     "text": [
      "['Samsung', 'Samsung', 'Samsung', 'Google', 'Google', 'Google', 'Apple', 'Apple', 'Apple']\n"
     ]
    }
   ],
   "source": [
    "repeating_words = list(input(\"Enter a list of words: \").split())\n",
    "repeated_times = int(input(\"Enter the number of times you want them repeated\"))\n",
    "new_list = sum([[x] * repeated_times for x in repeating_words], [])\n",
    "\n",
    "print(new_list)\n",
    "# Output: [1, 1, 1, 2, 2, 2, 3, 3, 3]"
   ]
  },
  {
   "cell_type": "markdown",
   "metadata": {},
   "source": [
    "32. Merge and Sort: Given two lists, create a new sorted list that merges both lists."
   ]
  },
  {
   "cell_type": "code",
   "execution_count": 43,
   "metadata": {},
   "outputs": [
    {
     "name": "stdout",
     "output_type": "stream",
     "text": [
      "['a', 'b', 'c', 'd', 'e', 'f', 'g', 'h', 'i']\n"
     ]
    }
   ],
   "source": [
    "merging_list1 = list(input(\"Enter a list of words: \").split())\n",
    "merging_list2 = list(input(\"Enter a list of words: \").split())\n",
    "\n",
    "merging_list1.extend(merging_list2)\n",
    "merging_list1.sort()\n",
    "\n",
    "print(merging_list1)"
   ]
  },
  {
   "cell_type": "markdown",
   "metadata": {},
   "source": [
    "33. Find All Indices: Given a list and an element, find all the indices of that element in the list."
   ]
  },
  {
   "cell_type": "code",
   "execution_count": 44,
   "metadata": {},
   "outputs": [
    {
     "name": "stdout",
     "output_type": "stream",
     "text": [
      "2\n"
     ]
    }
   ],
   "source": [
    "finding_list1 = list(input(\"Enter a list of words: \").split())\n",
    "finding_word = input(\"Enter the word you want to see how many times was in the list: \")\n",
    "\n",
    "print(finding_list1.count(finding_word))"
   ]
  },
  {
   "cell_type": "markdown",
   "metadata": {},
   "source": [
    "34. Rotate List: Given a list, create a new list that is a rotated version of the original list (shift elements to the right)."
   ]
  },
  {
   "cell_type": "code",
   "execution_count": null,
   "metadata": {},
   "outputs": [],
   "source": [
    "rotating_list = [1, 2, 3, 4, 5]\n",
    "positions_to_move = 2  # Number of positions to shift\n",
    "new_rotated_list = lst[-steps:] + lst[:-steps]\n",
    "\n",
    "print(new_list)"
   ]
  },
  {
   "cell_type": "markdown",
   "metadata": {},
   "source": [
    "35. Create Range List: Create a list of numbers in a specified range (e.g., from 1 to 10)."
   ]
  },
  {
   "cell_type": "code",
   "execution_count": null,
   "metadata": {},
   "outputs": [],
   "source": [
    "#not sure if it is the one you asked for\n",
    "range_list = list(range(1,11))\n",
    "\n",
    "print(range_list)"
   ]
  },
  {
   "cell_type": "markdown",
   "metadata": {},
   "source": [
    "36. Sum of Positive Numbers: Given a list of numbers, calculate the sum of all positive numbers."
   ]
  },
  {
   "cell_type": "code",
   "execution_count": null,
   "metadata": {},
   "outputs": [],
   "source": [
    "sum_of_numbers = list(map(int, input(\"Enter a list of numbers\").split()))\n",
    "total_of_positives = sum(x for x in sum_of_numbers if x > 0)\n",
    "\n",
    "print(total_of_positives)"
   ]
  },
  {
   "cell_type": "markdown",
   "metadata": {},
   "source": [
    "37. Sum of Negative Numbers: Given a list of numbers, calculate the sum of all negative numbers.\n"
   ]
  },
  {
   "cell_type": "code",
   "execution_count": null,
   "metadata": {},
   "outputs": [],
   "source": [
    "sum_of_negative_numbers = list(map(int, input(\"Enter a list of numbers\").split()))\n",
    "total_of_negatives = sum(x for x in sum_of_negative_numbers if x < 0)\n",
    "\n",
    "print(total_of_negatives)"
   ]
  },
  {
   "cell_type": "markdown",
   "metadata": {},
   "source": [
    "38. Check Palindrome: Given a list, check if the list is a palindrome (reads the same forwards and backwards)."
   ]
  },
  {
   "cell_type": "code",
   "execution_count": 46,
   "metadata": {},
   "outputs": [
    {
     "name": "stdout",
     "output_type": "stream",
     "text": [
      "['samsung', 'galaxy', 'samsung']\n",
      "True\n"
     ]
    }
   ],
   "source": [
    "palindrome_check = input(\"Enter words to check if they form a palindrome: \").split()\n",
    "print(palindrome_check)\n",
    "print(palindrome_check == palindrome_check[::-1])"
   ]
  },
  {
   "cell_type": "markdown",
   "metadata": {},
   "source": [
    "39. Create Nested List: Create a new list that contains sublists, where each sublist contains a specified number of elements from the original list."
   ]
  },
  {
   "cell_type": "code",
   "execution_count": null,
   "metadata": {},
   "outputs": [],
   "source": [
    "nested_list_original = [1, 2, 3, 4, 5, 6, 7, 8, 9]\n",
    "size = 3  \n",
    "nested_list_new = []\n",
    "\n",
    "for i in range(0, len(nested_list_original), size):\n",
    "    nested_list_new.append(nested_list_original[i:i + size])\n",
    "\n",
    "print(nested_list_new)"
   ]
  },
  {
   "cell_type": "markdown",
   "metadata": {},
   "source": [
    "40. Get Unique Elements in Order: Given a list, create a new list that contains unique elements while maintaining the original order."
   ]
  },
  {
   "cell_type": "code",
   "execution_count": 47,
   "metadata": {},
   "outputs": [
    {
     "name": "stdout",
     "output_type": "stream",
     "text": [
      "['1', '2', '3', '4', '5', '6', '7', '8', '9']\n"
     ]
    }
   ],
   "source": [
    "unique_list_original = input(\"Enter the words or numbers: \").split()\n",
    "unique_list_new = []\n",
    "\n",
    "for x in unique_list_original:\n",
    "    if x not in unique_list_new:\n",
    "        unique_list_new.append(x)\n",
    "\n",
    "print(unique_list_new)\n"
   ]
  }
 ],
 "metadata": {
  "kernelspec": {
   "display_name": "Python 3",
   "language": "python",
   "name": "python3"
  },
  "language_info": {
   "codemirror_mode": {
    "name": "ipython",
    "version": 3
   },
   "file_extension": ".py",
   "mimetype": "text/x-python",
   "name": "python",
   "nbconvert_exporter": "python",
   "pygments_lexer": "ipython3",
   "version": "3.10.10"
  }
 },
 "nbformat": 4,
 "nbformat_minor": 2
}
