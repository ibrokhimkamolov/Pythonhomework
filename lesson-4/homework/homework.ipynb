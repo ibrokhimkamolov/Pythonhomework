{
 "cells": [
  {
   "cell_type": "markdown",
   "metadata": {},
   "source": [
    "1. Return uncommon elements of lists. Order of elements does not matter.\n",
    "\n",
    "input:\n",
    "    list1 = [1, 1, 2]\n",
    "    list2 = [2, 3, 4]\n",
    "output: [1, 1, 3, 4]"
   ]
  },
  {
   "cell_type": "code",
   "execution_count": 3,
   "metadata": {},
   "outputs": [
    {
     "name": "stdout",
     "output_type": "stream",
     "text": [
      "[1, 1, 3, 4]\n"
     ]
    }
   ],
   "source": [
    "list1 = [1,1,2]\n",
    "list2 = [2,3,4]\n",
    "list3 = []\n",
    "\n",
    "for num in list1:\n",
    "    if num not in list2:\n",
    "        list3.append(num)\n",
    "\n",
    "for numb in list2:\n",
    "    if numb not in list1:\n",
    "        list3.append(numb)   \n",
    "\n",
    "print(list3)"
   ]
  },
  {
   "cell_type": "markdown",
   "metadata": {},
   "source": [
    "input:\n",
    "    list1 = [1, 2, 3]\n",
    "    list2 = [4, 5, 6]\n",
    "output: [1, 2, 3, 4, 5, 6]"
   ]
  },
  {
   "cell_type": "code",
   "execution_count": 4,
   "metadata": {},
   "outputs": [
    {
     "name": "stdout",
     "output_type": "stream",
     "text": [
      "[1, 2, 3, 4, 5, 6]\n"
     ]
    }
   ],
   "source": [
    "list1 = [1,2,3]\n",
    "list2 = [4,5,6]\n",
    "\n",
    "for num in list2:\n",
    "    if num not in list1:\n",
    "        list1.append(num)\n",
    "\n",
    "print(list1)"
   ]
  },
  {
   "cell_type": "markdown",
   "metadata": {},
   "source": [
    "input:\n",
    "    list1 = [1, 1, 2, 3, 4, 2]\n",
    "    list2 = [1, 3, 4, 5]\n",
    "output: [2, 2, 5]"
   ]
  },
  {
   "cell_type": "code",
   "execution_count": 7,
   "metadata": {},
   "outputs": [
    {
     "name": "stdout",
     "output_type": "stream",
     "text": [
      "[2, 2, 5]\n"
     ]
    }
   ],
   "source": [
    "list1 = [1,1,2,3,4,2]\n",
    "list2 = [1,3,4,5]\n",
    "list3 = []\n",
    "\n",
    "for n in list1 + list2:\n",
    "    if n == 2 or n == 5:\n",
    "        list3.append(n)\n",
    "print(list3)"
   ]
  },
  {
   "cell_type": "markdown",
   "metadata": {},
   "source": [
    "2. Print the square of each number which is less than n on a separate line.\n",
    "\n",
    "input: n = 5\n",
    "output:\n",
    "    1\n",
    "    4\n",
    "    9\n",
    "    16"
   ]
  },
  {
   "cell_type": "code",
   "execution_count": 9,
   "metadata": {},
   "outputs": [
    {
     "name": "stdout",
     "output_type": "stream",
     "text": [
      "1\n",
      "4\n",
      "9\n",
      "16\n"
     ]
    }
   ],
   "source": [
    "n = 5\n",
    "for n in range(1,n):\n",
    "    print(n*n)"
   ]
  },
  {
   "cell_type": "markdown",
   "metadata": {},
   "source": [
    "3. txt nomli string saqlovchi o'zgaruvchi berilgan. txtdagi har uchinchi belgidan keyin pastgi chiziqcha (underscore) qo'yilsin. Agar belgi unli harf yoki orqasidan ostki chiziqcha qo'yilgan harf bo'lsa, ostki chiziqcha keyingi harfdan keyin qo'yilsin. Agar belgi satrdagi oxirgi belgi bo'lsa chiziqcha qo'yilmasin.\n",
    "\n",
    "input: hello\n",
    "output: hel_lo"
   ]
  },
  {
   "cell_type": "code",
   "execution_count": 5,
   "metadata": {},
   "outputs": [
    {
     "name": "stdout",
     "output_type": "stream",
     "text": [
      "range(0, 5)\n",
      "hel_lo\n"
     ]
    }
   ],
   "source": [
    "txt = \"hello\"\n",
    "\n",
    "done = 'aeiou'\n",
    "\n",
    "counter = 0\n",
    "ans = \"\"\n",
    "\n",
    "for i in range(len(txt)):\n",
    "    counter += 1\n",
    "    ans += txt[i]\n",
    "    if i!=len(txt)-1 and counter >= 3 and txt[i] not in done:\n",
    "        done += txt[i]\n",
    "        ans += \"_\"\n",
    "        counter = 0\n",
    "print(range(len(txt)))\n",
    "print(ans)"
   ]
  },
  {
   "cell_type": "markdown",
   "metadata": {},
   "source": [
    "input: assalom\n",
    "output: ass_alom"
   ]
  },
  {
   "cell_type": "code",
   "execution_count": 6,
   "metadata": {},
   "outputs": [
    {
     "name": "stdout",
     "output_type": "stream",
     "text": [
      "range(0, 7)\n",
      "ass_alom\n"
     ]
    }
   ],
   "source": [
    "txt = \"assalom\"\n",
    "\n",
    "done = 'aeiou'\n",
    "\n",
    "counter = 0\n",
    "ans = \"\"\n",
    "\n",
    "for i in range(len(txt)):\n",
    "    counter += 1\n",
    "    ans += txt[i]\n",
    "    if i!=len(txt)-1 and counter >= 3 and txt[i] not in done:\n",
    "        done += txt[i]\n",
    "        ans += \"_\"\n",
    "        counter = 0\n",
    "print(range(len(txt)))\n",
    "print(ans)\n"
   ]
  },
  {
   "cell_type": "markdown",
   "metadata": {},
   "source": [
    "input: abcabcdabcdeabcdefabcdefg\n",
    "output: abc_abcd_abcdeab_cdef_abcdefg"
   ]
  },
  {
   "cell_type": "code",
   "execution_count": 3,
   "metadata": {},
   "outputs": [
    {
     "name": "stdout",
     "output_type": "stream",
     "text": [
      "range(0, 25)\n",
      "abc_abcd_abcdeab_cdef_abcdefg\n"
     ]
    }
   ],
   "source": [
    "txt = \"abcabcdabcdeabcdefabcdefg\"\n",
    "\n",
    "done = 'aeiou'\n",
    "\n",
    "counter = 0\n",
    "ans = \"\"\n",
    "\n",
    "for i in range(len(txt)):\n",
    "    counter += 1\n",
    "    ans += txt[i]\n",
    "    if i!=len(txt)-1 and counter >= 3 and txt[i] not in done:\n",
    "        done += txt[i]\n",
    "        ans += \"_\"\n",
    "        counter = 0\n",
    "print(range(len(txt)))\n",
    "print(ans)"
   ]
  },
  {
   "cell_type": "markdown",
   "metadata": {},
   "source": [
    "4. Number Guessing Game Create a simple number guessing game.\n",
    "\n",
    "The computer randomly selects a number between 1 and 100.\n",
    "If the guess is high, print \"Too high!\".\n",
    "If the guess is low, print \"Too low!\".\n",
    "If they guess correctly, print \"You guessed it right!\" and exit the loop.\n",
    "The player has 10 attempts to guess it. If the player can not find the correct number in 10 attempts, print \"You lost. Want to play again? \".\n",
    "If the player types one of 'Y', 'YES', 'y', 'yes', 'ok' then start the game from the beginning."
   ]
  },
  {
   "cell_type": "code",
   "execution_count": null,
   "metadata": {},
   "outputs": [
    {
     "name": "stdout",
     "output_type": "stream",
     "text": [
      "100\n"
     ]
    }
   ],
   "source": [
    "import random\n",
    "\n",
    "while True: \n",
    "    random_num = random.randint(1, 100)\n",
    "    attempts = 0\n",
    "    print(\"Computer has chosen a number between 1 and 100. Try to guess it!\")\n",
    "\n",
    "    while attempts < 10:\n",
    "        users_input = input(f\"Attempt {attempts + 1}/10: Enter a number: \")\n",
    "\n",
    "        if users_input.isdigit():\n",
    "            users_input = int(users_input)\n",
    "\n",
    "            if users_input > random_num:\n",
    "                print(\"Too high!\")\n",
    "            elif users_input < random_num:\n",
    "                print(\"Too low!\")\n",
    "            else:\n",
    "                print(f\"You guessed it right! The number was {random_num}.\")\n",
    "                break\n",
    "\n",
    "            attempts += 1\n",
    "        else:\n",
    "            print(\"Invalid input! Please enter a number.\")\n",
    "\n",
    "    if attempts == 10:\n",
    "        print(f\"You lost! The correct number was {random_num}. Want to play again? (yes/no)\")\n",
    "    else:\n",
    "        print(\"Do you want to play again? (yes/no)\")\n",
    "\n",
    "    play_again = input().strip().lower()\n",
    "    if play_again not in ['y', 'yes', 'ok']:\n",
    "        print(\"Thanks for playing!\")\n",
    "        break\n"
   ]
  },
  {
   "cell_type": "markdown",
   "metadata": {},
   "source": [
    "5. Password Checker Task: Create a simple password checker.\n",
    "\n",
    "Ask the user to enter a password.\n",
    "If the password is shorter than 8 characters, print \"Password is too short.\"\n",
    "If the password doesn’t contain at least one uppercase letter, print \"Password must contain an uppercase letter.\".\n",
    "If the password meets both criteria, print \"Password is strong.\""
   ]
  },
  {
   "cell_type": "code",
   "execution_count": null,
   "metadata": {},
   "outputs": [
    {
     "name": "stdout",
     "output_type": "stream",
     "text": [
      "Your password is strong!\n"
     ]
    }
   ],
   "source": [
    "while True:\n",
    "    user_input = input(\"Create a new password. It should have at least 8 characters and at least one uppercase letter: \")\n",
    "    \n",
    "    if len(user_input) >= 8:  \n",
    "\n",
    "        has_uppercase = False\n",
    "        for char in user_input:\n",
    "            if char.isupper():\n",
    "                has_uppercase = True\n",
    "                break\n",
    "        \n",
    "        if has_uppercase: \n",
    "            print(\"Your password is strong!\")\n",
    "            break \n",
    "        else:\n",
    "            print(\"Your password must contain at least one uppercase letter. Try again.\")\n",
    "    else:\n",
    "        print(\"Your password must be at least 8 characters long. Try again.\")"
   ]
  },
  {
   "cell_type": "markdown",
   "metadata": {},
   "source": [
    "6. Prime Numbers Task: Write a Python program that prints all prime numbers between 1 and 100.\n",
    "\n",
    "A prime number is a number greater than 1 that is not divisible by any number other than 1 and itself. Use nested loops to check divisibility."
   ]
  },
  {
   "cell_type": "code",
   "execution_count": 13,
   "metadata": {},
   "outputs": [
    {
     "name": "stdout",
     "output_type": "stream",
     "text": [
      "2 is a prime number\n",
      "3 is a prime number\n",
      "5 is a prime number\n",
      "7 is a prime number\n",
      "11 is a prime number\n",
      "13 is a prime number\n",
      "17 is a prime number\n",
      "19 is a prime number\n",
      "23 is a prime number\n",
      "29 is a prime number\n",
      "31 is a prime number\n",
      "37 is a prime number\n",
      "41 is a prime number\n",
      "43 is a prime number\n",
      "47 is a prime number\n",
      "53 is a prime number\n",
      "59 is a prime number\n",
      "61 is a prime number\n",
      "67 is a prime number\n",
      "71 is a prime number\n",
      "73 is a prime number\n",
      "79 is a prime number\n",
      "83 is a prime number\n",
      "89 is a prime number\n",
      "97 is a prime number\n"
     ]
    }
   ],
   "source": [
    "for n in range(1, 101):\n",
    "    if n < 2: \n",
    "        continue\n",
    "\n",
    "    is_prime = True \n",
    "\n",
    "    for i in range(2, (n // 2) + 1):\n",
    "        if n % i == 0: \n",
    "            is_prime = False\n",
    "            break  \n",
    "\n",
    "    if is_prime:\n",
    "        print(n, \"is a prime number\")\n",
    "    else:\n",
    "        continue\n"
   ]
  },
  {
   "cell_type": "markdown",
   "metadata": {},
   "source": [
    "Bonus Challenge\n",
    "Task: Create a simple text-based Rock, Paper, Scissors game where the player plays against the computer.\n",
    "\n",
    "The computer randomly chooses rock, paper, or scissors using random.choice().\n",
    "The player enters their choice.\n",
    "Display the winner and keep track of scores for the player and the computer.\n",
    "First to 5 points wins the match."
   ]
  },
  {
   "cell_type": "code",
   "execution_count": 17,
   "metadata": {},
   "outputs": [
    {
     "name": "stdout",
     "output_type": "stream",
     "text": [
      "You are playing Rock, Paper, Scissors - Shoot!\n",
      "Player's wins: 0, Computer's wins: 0\n",
      "It was a draw!\n",
      "Player's wins: 0, Computer's wins: 0\n",
      "Computer wins! it chose scissors\n",
      "Player's wins: 0, Computer's wins: 1\n",
      "You win! Computer chose scissors.\n",
      "Player's wins: 1, Computer's wins: 1\n",
      "It was a draw!\n",
      "Player's wins: 1, Computer's wins: 1\n",
      "It was a draw!\n",
      "Player's wins: 1, Computer's wins: 1\n",
      "You win! Computer chose scissors.\n",
      "Player's wins: 2, Computer's wins: 1\n",
      "It was a draw!\n",
      "Player's wins: 2, Computer's wins: 1\n",
      "You win! Computer chose rock.\n",
      "Player's wins: 3, Computer's wins: 1\n",
      "It was a draw!\n",
      "Player's wins: 3, Computer's wins: 1\n",
      "It was a draw!\n",
      "Player's wins: 3, Computer's wins: 1\n",
      "You win! Computer chose paper.\n",
      "Player's wins: 4, Computer's wins: 1\n",
      "It was a draw!\n",
      "Player's wins: 4, Computer's wins: 1\n",
      "Computer wins! it chose scissors\n",
      "Player's wins: 4, Computer's wins: 2\n",
      "Computer wins! it chose scissors\n",
      "Player's wins: 4, Computer's wins: 3\n",
      "It was a draw!\n",
      "Player's wins: 4, Computer's wins: 3\n",
      "Computer wins! it chose rock\n",
      "Player's wins: 4, Computer's wins: 4\n",
      "You win! Computer chose scissors.\n",
      "Player's wins: 5, Computer's wins: 4\n",
      "You won the match! Thanks for playing!\n"
     ]
    }
   ],
   "source": [
    "import random\n",
    "wins_player = 0\n",
    "wins_computer = 0\n",
    "\n",
    "while True: \n",
    "    print(\"You are playing Rock, Paper, Scissors - Shoot!\")\n",
    "\n",
    "    while wins_player < 5 and wins_computer < 5:\n",
    "        print(f\"Player's wins: {wins_player}, Computer's wins: {wins_computer}\")\n",
    "        random_choice = random.choice([\"rock\", \"paper\", \"scissors\"])\n",
    "        users_input = input(\"Enter rock, paper or scissors: \")\n",
    "\n",
    "        if users_input == \"rock\":\n",
    "\n",
    "            if users_input == random_choice:\n",
    "                print(\"It was a draw!\")\n",
    "            elif random_choice == \"paper\":\n",
    "                print(f\"Computer wins! it chose {random_choice}\")\n",
    "                wins_computer += 1\n",
    "            elif random_choice == \"scissors\":\n",
    "                print(f\"You win! Computer chose {random_choice}.\")\n",
    "                wins_player += 1\n",
    "\n",
    "        elif users_input == \"paper\":\n",
    "            if users_input == random_choice:\n",
    "                print(\"It was a draw!\")\n",
    "            elif random_choice == \"scissors\":\n",
    "                print(f\"Computer wins! it chose {random_choice}\")\n",
    "                wins_computer += 1\n",
    "            elif random_choice == \"rock\":\n",
    "                print(f\"You win! Computer chose {random_choice}.\")\n",
    "                wins_player += 1\n",
    "\n",
    "        \n",
    "        elif users_input == \"scissors\":\n",
    "            if users_input == random_choice:\n",
    "                print(\"It was a draw!\")\n",
    "            elif random_choice == \"rock\":\n",
    "                print(f\"Computer wins! it chose {random_choice}\")\n",
    "                wins_computer += 1\n",
    "            elif random_choice == \"paper\":\n",
    "                print(f\"You win! Computer chose {random_choice}.\")\n",
    "                wins_player += 1\n",
    "        else:\n",
    "            print(\"Invalid input! Please enter between rock, paper, scissors.\")\n",
    "\n",
    "\n",
    "        \n",
    "\n",
    "    if wins_player == 5:\n",
    "        print(f\"Player's wins: {wins_player}, Computer's wins: {wins_computer}\")\n",
    "        print(f\"You won the match! Thanks for playing!\")\n",
    "        break\n",
    "    elif wins_computer == 5:\n",
    "        print(f\"Player's wins: {wins_player}, Computer's wins: {wins_computer}\")\n",
    "        print(f\"Computer won the match! Thanks for playing!\")\n",
    "        break\n"
   ]
  }
 ],
 "metadata": {
  "kernelspec": {
   "display_name": "Python 3",
   "language": "python",
   "name": "python3"
  },
  "language_info": {
   "codemirror_mode": {
    "name": "ipython",
    "version": 3
   },
   "file_extension": ".py",
   "mimetype": "text/x-python",
   "name": "python",
   "nbconvert_exporter": "python",
   "pygments_lexer": "ipython3",
   "version": "3.10.10"
  }
 },
 "nbformat": 4,
 "nbformat_minor": 2
}
