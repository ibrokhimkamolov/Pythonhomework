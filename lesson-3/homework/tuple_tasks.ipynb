{
 "cells": [
  {
   "cell_type": "markdown",
   "metadata": {},
   "source": [
    "1. Count Occurrences: Given a tuple and an element, find how many times the element appears in the tuple."
   ]
  },
  {
   "cell_type": "code",
   "execution_count": 1,
   "metadata": {},
   "outputs": [
    {
     "name": "stdout",
     "output_type": "stream",
     "text": [
      "2\n"
     ]
    }
   ],
   "source": [
    "count_occurences = tuple(input(\"Give me words for the tuple: \").split())\n",
    "counting_word = input(\"Give the word you want to search for in the tuple: \")\n",
    "print(count_occurences.count(counting_word))"
   ]
  },
  {
   "cell_type": "markdown",
   "metadata": {},
   "source": [
    "2. Max Element: From a given tuple, determine the largest element."
   ]
  },
  {
   "cell_type": "code",
   "execution_count": null,
   "metadata": {},
   "outputs": [
    {
     "name": "stdout",
     "output_type": "stream",
     "text": [
      "goooooooooooood\n"
     ]
    }
   ],
   "source": [
    "max_element = tuple(input(\"Give me words for the tuple: \").split())\n",
    "making_max_tuple_order = sorted(max_element, key=lambda x: len(x))\n",
    "print(making_tuple_order[-1])"
   ]
  },
  {
   "cell_type": "markdown",
   "metadata": {},
   "source": [
    "3. Min Element: From a given tuple, determine the smallest element."
   ]
  },
  {
   "cell_type": "code",
   "execution_count": 4,
   "metadata": {},
   "outputs": [
    {
     "name": "stdout",
     "output_type": "stream",
     "text": [
      "people\n"
     ]
    }
   ],
   "source": [
    "min_element = tuple(input(\"Give me words for the tuple: \").split())\n",
    "making_min_tuple_order = sorted(min_element, key=lambda x: len(x))\n",
    "print(making_min_tuple_order[0])"
   ]
  },
  {
   "cell_type": "markdown",
   "metadata": {},
   "source": [
    "4. Check Element: Given a tuple and an element, check if the element is present in the tuple."
   ]
  },
  {
   "cell_type": "code",
   "execution_count": 7,
   "metadata": {},
   "outputs": [
    {
     "name": "stdout",
     "output_type": "stream",
     "text": [
      "It is inside the tuple!\n"
     ]
    }
   ],
   "source": [
    "check_element = tuple(input(\"Enter the tuple: \").split())\n",
    "checking_element = input(\"Enter the element you want to search for: \")\n",
    "\n",
    "if checking_element in check_element:\n",
    "    print(\"It is inside the tuple!\")\n",
    "else:\n",
    "    print(\"It is not here!\")"
   ]
  },
  {
   "cell_type": "markdown",
   "metadata": {},
   "source": [
    "5. First Element: Access the first element of a tuple, considering what to return if the tuple is empty."
   ]
  },
  {
   "cell_type": "code",
   "execution_count": 9,
   "metadata": {},
   "outputs": [
    {
     "name": "stdout",
     "output_type": "stream",
     "text": [
      "Here is the first element:  here\n"
     ]
    }
   ],
   "source": [
    "first_element = tuple(input(\"Enter the tuple words: \").split())\n",
    "\n",
    "if len(first_element) > 0:\n",
    "    print(f\"Here is the first element: \", first_element[0])\n",
    "else:\n",
    "    print(\"Tuple is empty\")\n"
   ]
  },
  {
   "cell_type": "markdown",
   "metadata": {},
   "source": [
    "6. Last Element: Access the last element of a tuple, considering what to return if the tuple is empty."
   ]
  },
  {
   "cell_type": "code",
   "execution_count": 10,
   "metadata": {},
   "outputs": [
    {
     "name": "stdout",
     "output_type": "stream",
     "text": [
      "Here is the first element:  go\n"
     ]
    }
   ],
   "source": [
    "last_element = tuple(input(\"Enter the tuple words: \").split())\n",
    "\n",
    "if len(last_element) > 0:\n",
    "    print(f\"Here is the first element: \", last_element[-1])\n",
    "else:\n",
    "    print(\"Tuple is empty\")"
   ]
  },
  {
   "cell_type": "markdown",
   "metadata": {},
   "source": [
    "7. Tuple Length: Determine the number of elements in the tuple."
   ]
  },
  {
   "cell_type": "code",
   "execution_count": null,
   "metadata": {},
   "outputs": [
    {
     "name": "stdout",
     "output_type": "stream",
     "text": [
      "3\n"
     ]
    }
   ],
   "source": [
    "tuple_length = tuple(input(\"Enter the tuple words: \").split())\n",
    "\n",
    "print(\"There are this many elements in the tuple: \"len(tuple_length))"
   ]
  },
  {
   "cell_type": "markdown",
   "metadata": {},
   "source": [
    "8. Slice Tuple: Create a new tuple that contains only the first three elements of the original tuple."
   ]
  },
  {
   "cell_type": "code",
   "execution_count": 13,
   "metadata": {},
   "outputs": [
    {
     "name": "stdout",
     "output_type": "stream",
     "text": [
      "('samsung', 'google', 'apple')\n"
     ]
    }
   ],
   "source": [
    "slice_tuple = tuple(input(\"Enter the tuple words: \").split())\n",
    "new_first_three_tuple = slice_tuple[0:3]\n",
    "\n",
    "print(new_first_three_tuple)"
   ]
  },
  {
   "cell_type": "markdown",
   "metadata": {},
   "source": [
    "9. Concatenate Tuples: Given two tuples, create a new tuple that combines both."
   ]
  },
  {
   "cell_type": "code",
   "execution_count": 14,
   "metadata": {},
   "outputs": [
    {
     "name": "stdout",
     "output_type": "stream",
     "text": [
      "('1', '2', '3', '4', '5', '6', '7', '8')\n"
     ]
    }
   ],
   "source": [
    "concatenate_tuples_1 = tuple(input(\"Enter the tuple words: \").split())\n",
    "concatenate_tuples_2 = tuple(input(\"Enter the tuple words: \").split())\n",
    "\n",
    "concatenate_tuples_3 = concatenate_tuples_1 + concatenate_tuples_2\n",
    "\n",
    "print(concatenate_tuples_3)"
   ]
  },
  {
   "cell_type": "markdown",
   "metadata": {},
   "source": [
    "10. Check if Tuple is Empty: Determine if a tuple has any elements."
   ]
  },
  {
   "cell_type": "code",
   "execution_count": 16,
   "metadata": {},
   "outputs": [
    {
     "name": "stdout",
     "output_type": "stream",
     "text": [
      "It is empty!\n"
     ]
    }
   ],
   "source": [
    "check_if_empty = tuple(input(\"Enter the tuple words: \").split())\n",
    "\n",
    "if len(check_if_empty) > 0:\n",
    "    print(\"There are elements in the tuple!\")\n",
    "else:\n",
    "    print(\"It is empty!\")"
   ]
  },
  {
   "cell_type": "markdown",
   "metadata": {},
   "source": [
    "11. Get All Indices of Element: Given a tuple and an element, find all the indices of that element in the tuple."
   ]
  },
  {
   "cell_type": "code",
   "execution_count": 18,
   "metadata": {},
   "outputs": [
    {
     "name": "stdout",
     "output_type": "stream",
     "text": [
      "[1, 4, 5, 6]\n"
     ]
    }
   ],
   "source": [
    "get_all_indices = tuple(input(\"Enter the tuple words: \").split())\n",
    "element_of_the_search = input(\"Enter the element you want to find: \")\n",
    "\n",
    "indices = []\n",
    "\n",
    "for i in range(len(get_all_indices)):\n",
    "    if get_all_indices[i] == element_of_the_search:\n",
    "        indices.append(i)\n",
    "\n",
    "print(indices)"
   ]
  },
  {
   "cell_type": "markdown",
   "metadata": {},
   "source": [
    "12. Find Second Largest: From a given tuple, find the second largest element."
   ]
  },
  {
   "cell_type": "code",
   "execution_count": 20,
   "metadata": {},
   "outputs": [
    {
     "name": "stdout",
     "output_type": "stream",
     "text": [
      "13131223\n"
     ]
    }
   ],
   "source": [
    "second_largest_element = tuple(input(\"Give me words for the tuple: \").split())\n",
    "making_second_max_tuple_order = sorted(second_largest_element, key=lambda x: len(x))\n",
    "print(making_second_max_tuple_order[-2])"
   ]
  },
  {
   "cell_type": "markdown",
   "metadata": {},
   "source": [
    "13. Find Second Smallest: From a given tuple, find the second smallest element."
   ]
  },
  {
   "cell_type": "code",
   "execution_count": 21,
   "metadata": {},
   "outputs": [
    {
     "name": "stdout",
     "output_type": "stream",
     "text": [
      "1222\n"
     ]
    }
   ],
   "source": [
    "second_min_element = tuple(input(\"Give me words for the tuple: \").split())\n",
    "making_second_min_tuple_order = sorted(second_min_element, key=lambda x: len(x))\n",
    "print(making_second_min_tuple_order[1])"
   ]
  },
  {
   "cell_type": "markdown",
   "metadata": {},
   "source": [
    "14. Create a Single Element Tuple: Create a tuple that contains a single specified element."
   ]
  },
  {
   "cell_type": "code",
   "execution_count": null,
   "metadata": {},
   "outputs": [],
   "source": [
    "single_element = input(\"Enter the element you want in the tuple: \")\n",
    "single_element_tuple = (single_element,)\n",
    "\n",
    "print(single_element_tuple)"
   ]
  },
  {
   "cell_type": "markdown",
   "metadata": {},
   "source": [
    "15. Convert List to Tuple: Given a list, create a tuple containing the same elements."
   ]
  },
  {
   "cell_type": "code",
   "execution_count": 22,
   "metadata": {},
   "outputs": [
    {
     "name": "stdout",
     "output_type": "stream",
     "text": [
      "('people', 'here', 'we', 'gooooo')\n"
     ]
    }
   ],
   "source": [
    "convert_list = input(\"Enter list elements: \").split()\n",
    "converted_tuple = tuple(convert_list)\n",
    "\n",
    "print(converted_tuple)"
   ]
  },
  {
   "cell_type": "markdown",
   "metadata": {},
   "source": [
    "16. Check if Tuple is Sorted: Determine if the tuple is sorted in ascending order and return a boolean."
   ]
  },
  {
   "cell_type": "code",
   "execution_count": 28,
   "metadata": {},
   "outputs": [
    {
     "name": "stdout",
     "output_type": "stream",
     "text": [
      "('1', '2', '3', '4')\n",
      "('1', '2', '3', '4')\n",
      "It will print True if the list is sorted, and it will print False if it wasn't:  True\n"
     ]
    }
   ],
   "source": [
    "input_tuple = tuple(input(\"Give me words for the tuple: \").split())\n",
    "\n",
    "print(input_tuple)\n",
    "\n",
    "input_tuple_sorted = tuple(sorted(input_tuple))\n",
    "\n",
    "print(input_tuple_sorted)\n",
    "\n",
    "print(\"It will print True if the list is sorted, and it will print False if it wasn't: \", input_tuple == input_tuple_sorted )"
   ]
  },
  {
   "cell_type": "markdown",
   "metadata": {},
   "source": [
    "17. Find Maximum of Subtuple: Given a tuple, find the maximum element of a specified subtuple."
   ]
  },
  {
   "cell_type": "code",
   "execution_count": null,
   "metadata": {},
   "outputs": [
    {
     "name": "stdout",
     "output_type": "stream",
     "text": [
      "('person', 'persooon', 'persoooooon', ('heeeey', 'hello', 'hiiiiiiiiiiiiiiii'))\n",
      "hiiiiiiiiiiiiiiii\n"
     ]
    }
   ],
   "source": [
    "elements_of_main_max_tuple = tuple(input(\"Enter 3 of the main tuple elements: \").split())\n",
    "elements_of_sub_max_tuple = tuple(input(\"Enter 3 of the sub tuple elements: \").split())\n",
    "\n",
    "sorted_elements_of_sub_max_tuple = tuple(sorted(elements_of_sub_max_tuple, key=lambda x: len(x)))\n",
    "\n",
    "max_tupple = elements_of_main_max_tuple + (sorted_elements_of_sub_max_tuple,)\n",
    "\n",
    "print(max_tupple)\n",
    "print(max_tupple[3][-1])"
   ]
  },
  {
   "cell_type": "markdown",
   "metadata": {},
   "source": [
    "18. Find Minimum of Subtuple: Given a tuple, find the minimum element of a specified subtuple."
   ]
  },
  {
   "cell_type": "code",
   "execution_count": 36,
   "metadata": {},
   "outputs": [
    {
     "name": "stdout",
     "output_type": "stream",
     "text": [
      "('we', 'have', 'people', ('I', 'am', 'good'))\n",
      "I\n"
     ]
    }
   ],
   "source": [
    "elements_of_main_min_tuple = tuple(input(\"Enter 3 of the main tuple elements: \").split())\n",
    "elements_of_sub_min_tuple = tuple(input(\"Enter 3 of the sub tuple elements: \").split())\n",
    "\n",
    "sorted_elements_of_sub_min_tuple = tuple(sorted(elements_of_sub_min_tuple, key=lambda x: len(x)))\n",
    "\n",
    "min_tupple = elements_of_main_min_tuple + (sorted_elements_of_sub_min_tuple,)\n",
    "\n",
    "print(min_tupple)\n",
    "print(min_tupple[3][0])"
   ]
  },
  {
   "cell_type": "markdown",
   "metadata": {},
   "source": [
    "19. Remove Element by Value: Given a tuple and an element, create a new tuple that removes the first occurrence of that element."
   ]
  },
  {
   "cell_type": "code",
   "execution_count": null,
   "metadata": {},
   "outputs": [
    {
     "name": "stdout",
     "output_type": "stream",
     "text": [
      "Updated tuple: ('samsung', 's24')\n"
     ]
    }
   ],
   "source": [
    "elements_tuple = tuple(input(\"Enter words into the tuple: \").split())  \n",
    "element_to_remove = input(\"Enter the word you want to remove: \")  \n",
    "\n",
    "if element_to_remove in elements_tuple:\n",
    "    index_of_the_removing_element = elements_tuple.index(element_to_remove) \n",
    "    new_tuple = elements_tuple[:index_of_the_removing_element] + elements_tuple[index_of_the_removing_element + 1:] \n",
    "    print(\"Updated tuple after remove: \", new_tuple)\n",
    "else:\n",
    "    print(\"Element not found in tuple.\")"
   ]
  },
  {
   "cell_type": "markdown",
   "metadata": {},
   "source": [
    "20. Create Nested Tuple: Create a new tuple that contains subtuples, where each subtuple contains specified elements from the original tuple."
   ]
  },
  {
   "cell_type": "code",
   "execution_count": null,
   "metadata": {},
   "outputs": [],
   "source": [
    "#I didn't really get this one\n",
    "original_main_tuple = (1, 2, 3, 4, 5, 6, 7, 8)\n",
    "\n",
    "nested_tuple = ((original_main_tuple[0], original_main_tuple[1]), \n",
    "                (original_main_tuple[2], original_main_tuple[3]), \n",
    "                (original_main_tuple[4], original_main_tuple[5]), \n",
    "                (original_main_tuple[6], original_main_tuple[7]))\n",
    "\n",
    "print(nested_tuple)"
   ]
  },
  {
   "cell_type": "markdown",
   "metadata": {},
   "source": [
    "21. Repeat Elements: Given a tuple and a number, create a new tuple where each element is repeated that number of times."
   ]
  },
  {
   "cell_type": "code",
   "execution_count": 40,
   "metadata": {},
   "outputs": [
    {
     "name": "stdout",
     "output_type": "stream",
     "text": [
      "('here', 'here', 'here', 'here', 'here', 'we', 'we', 'we', 'we', 'we', 'go', 'go', 'go', 'go', 'go')\n"
     ]
    }
   ],
   "source": [
    "repeat_element_tuple = tuple(input(\"Enter words into the tuple: \").split())  \n",
    "number_of_times_to_be_repeated = int(input(\"How many times do you want it to be repeated? \"))\n",
    "\n",
    "new_updated_tuple = ()\n",
    "for item in repeat_element_tuple:\n",
    "    new_updated_tuple += (item,) * number_of_times_to_be_repeated\n",
    "\n",
    "print(new_updated_tuple)\n"
   ]
  },
  {
   "cell_type": "markdown",
   "metadata": {},
   "source": [
    "22. Create Range Tuple: Create a tuple of numbers in a specified range (e.g., from 1 to 10)."
   ]
  },
  {
   "cell_type": "code",
   "execution_count": 41,
   "metadata": {},
   "outputs": [
    {
     "name": "stdout",
     "output_type": "stream",
     "text": [
      "(1, 2, 3, 4, 5, 6, 7, 8, 9, 10)\n"
     ]
    }
   ],
   "source": [
    "range_tuple = tuple(range(1,11))\n",
    "\n",
    "print(range_tuple)"
   ]
  },
  {
   "cell_type": "markdown",
   "metadata": {},
   "source": [
    "23. Reverse Tuple: Create a new tuple that contains the elements of the original tuple in reverse order."
   ]
  },
  {
   "cell_type": "code",
   "execution_count": 42,
   "metadata": {},
   "outputs": [
    {
     "name": "stdout",
     "output_type": "stream",
     "text": [
      "('here', 'are', 'we', 'people')\n"
     ]
    }
   ],
   "source": [
    "not_reverse_tuple = tuple(input(\"Enter words into the tuple: \").split())\n",
    "\n",
    "new_reverse_tuple = not_reverse_tuple[::-1]\n",
    "\n",
    "print(new_reverse_tuple)"
   ]
  },
  {
   "cell_type": "markdown",
   "metadata": {},
   "source": [
    "24. Check Palindrome: Given a tuple, check if the tuple is a palindrome (reads the same forwards and backwards)."
   ]
  },
  {
   "cell_type": "code",
   "execution_count": 44,
   "metadata": {},
   "outputs": [
    {
     "name": "stdout",
     "output_type": "stream",
     "text": [
      "('123',)\n",
      "True\n"
     ]
    }
   ],
   "source": [
    "palindrome_tuple_check = tuple(input(\"Enter words to check if they form a palindrome: \").split())\n",
    "print(palindrome_tuple_check)\n",
    "print(palindrome_tuple_check == palindrome_tuple_check[::-1])"
   ]
  },
  {
   "cell_type": "markdown",
   "metadata": {},
   "source": [
    "25. Get Unique Elements: Given a tuple, create a new tuple that contains only the unique elements while maintaining the original order."
   ]
  },
  {
   "cell_type": "code",
   "execution_count": 45,
   "metadata": {},
   "outputs": [
    {
     "name": "stdout",
     "output_type": "stream",
     "text": [
      "('1', '2', '3')\n"
     ]
    }
   ],
   "source": [
    "unique_tuple_original = input(\"Enter the words or numbers: \").split()\n",
    "unique_tuple_new = []\n",
    "\n",
    "for x in unique_tuple_original:\n",
    "    if x not in unique_tuple_new:\n",
    "        unique_tuple_new.append(x)\n",
    "making_tuple = tuple(unique_tuple_new)\n",
    "\n",
    "print(making_tuple)"
   ]
  }
 ],
 "metadata": {
  "kernelspec": {
   "display_name": "Python 3",
   "language": "python",
   "name": "python3"
  },
  "language_info": {
   "codemirror_mode": {
    "name": "ipython",
    "version": 3
   },
   "file_extension": ".py",
   "mimetype": "text/x-python",
   "name": "python",
   "nbconvert_exporter": "python",
   "pygments_lexer": "ipython3",
   "version": "3.10.10"
  }
 },
 "nbformat": 4,
 "nbformat_minor": 2
}
