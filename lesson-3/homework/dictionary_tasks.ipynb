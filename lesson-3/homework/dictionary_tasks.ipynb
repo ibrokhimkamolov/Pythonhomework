{
 "cells": [
  {
   "cell_type": "markdown",
   "metadata": {},
   "source": [
    "1. Get Value: Given a dictionary and a key, retrieve the associated value, considering what to return if the key doesn’t exist."
   ]
  },
  {
   "cell_type": "code",
   "execution_count": 1,
   "metadata": {},
   "outputs": [
    {
     "name": "stdout",
     "output_type": "stream",
     "text": [
      "Info:  Ibrokhim\n"
     ]
    }
   ],
   "source": [
    "person = {\n",
    "    'name': \"Ibrokhim\",\n",
    "    'email': 'ibrokhim@gmail.com',\n",
    "    'age': 22\n",
    "}\n",
    "\n",
    "type(person)\n",
    "\n",
    "key = input(\"Enter name/email/age to retrieve its value: \")\n",
    "value = person.get(key, \"Key not found\")\n",
    "\n",
    "print(\"Info: \", value)"
   ]
  },
  {
   "cell_type": "markdown",
   "metadata": {},
   "source": [
    "2. Check Key: Given a dictionary and a key, check if the key is present in the dictionary."
   ]
  },
  {
   "cell_type": "code",
   "execution_count": 3,
   "metadata": {},
   "outputs": [
    {
     "name": "stdout",
     "output_type": "stream",
     "text": [
      "Key exists in the dictionary!\n"
     ]
    }
   ],
   "source": [
    "num_entries = int(input(\"Enter the number of key-value pairs: \"))\n",
    "\n",
    "user_dict = {}\n",
    "\n",
    "for _ in range(num_entries):\n",
    "    key = input(\"Enter a key: \")\n",
    "    value = input(\"Enter its value: \")\n",
    "    user_dict[key] = value \n",
    "\n",
    "search_key = input(\"Enter a key to check: \")\n",
    "\n",
    "if search_key in user_dict:\n",
    "    print(\"Key exists in the dictionary!\")\n",
    "else:\n",
    "    print(\"Key not found in the dictionary.\")"
   ]
  },
  {
   "cell_type": "markdown",
   "metadata": {},
   "source": [
    "3. Count Keys: Determine the number of keys in the dictionary."
   ]
  },
  {
   "cell_type": "code",
   "execution_count": 4,
   "metadata": {},
   "outputs": [
    {
     "name": "stdout",
     "output_type": "stream",
     "text": [
      "There are 3 keys\n"
     ]
    }
   ],
   "source": [
    "person = {\n",
    "    'name': \"Ibrokhim\",\n",
    "    'email': 'ibrokhim@gmail.com',\n",
    "    'age': 22\n",
    "}\n",
    "\n",
    "saves_keys = person.keys()\n",
    "print(f\"There are {len(saves_keys)} keys\")"
   ]
  },
  {
   "cell_type": "markdown",
   "metadata": {},
   "source": [
    "4. Get All Keys: Create a list that contains all the keys in the dictionary."
   ]
  },
  {
   "cell_type": "code",
   "execution_count": 5,
   "metadata": {},
   "outputs": [
    {
     "name": "stdout",
     "output_type": "stream",
     "text": [
      "['name', 'email', 'age']\n"
     ]
    }
   ],
   "source": [
    "person = {\n",
    "    'name': \"Ibrokhim\",\n",
    "    'email': 'ibrokhim@gmail.com',\n",
    "    'age': 22\n",
    "}\n",
    "\n",
    "saves_keys = list(person.keys())\n",
    "print(saves_keys)"
   ]
  },
  {
   "cell_type": "markdown",
   "metadata": {},
   "source": [
    "5. Get All Values: Create a list that contains all the values in the dictionary."
   ]
  },
  {
   "cell_type": "code",
   "execution_count": 6,
   "metadata": {},
   "outputs": [
    {
     "name": "stdout",
     "output_type": "stream",
     "text": [
      "['Ibrokhim', 'ibrokhim@gmail.com', 22]\n"
     ]
    }
   ],
   "source": [
    "person = {\n",
    "    'name': \"Ibrokhim\",\n",
    "    'email': 'ibrokhim@gmail.com',\n",
    "    'age': 22\n",
    "}\n",
    "\n",
    "saves_values = list(person.values())\n",
    "print(saves_values)"
   ]
  },
  {
   "cell_type": "markdown",
   "metadata": {},
   "source": [
    "6. Merge Dictionaries: Given two dictionaries, create a new dictionary that combines both."
   ]
  },
  {
   "cell_type": "code",
   "execution_count": 8,
   "metadata": {},
   "outputs": [
    {
     "name": "stdout",
     "output_type": "stream",
     "text": [
      "{'name': 'Ibrokhim', 'email': 'ibrokhim@gmail.com', 'age': 22}\n",
      "{'surname': 'Kamolov', 'number': 4090002, 'year': 2002}\n",
      "{'name': 'Ibrokhim', 'email': 'ibrokhim@gmail.com', 'age': 22, 'surname': 'Kamolov', 'number': 4090002, 'year': 2002}\n"
     ]
    }
   ],
   "source": [
    "person = {\n",
    "    'name': \"Ibrokhim\",\n",
    "    'email': 'ibrokhim@gmail.com',\n",
    "    'age': 22\n",
    "}\n",
    "additional_info = {\n",
    "    'surname': \"Kamolov\",\n",
    "    'number': 4090002,\n",
    "    'year': 2002\n",
    "}\n",
    "\n",
    "full_info = person | additional_info\n",
    "\n",
    "print(person)\n",
    "print(additional_info)\n",
    "print(full_info)"
   ]
  },
  {
   "cell_type": "markdown",
   "metadata": {},
   "source": [
    "7. Remove Key: Given a dictionary and a key, remove the key if it exists, handling the case if it doesn’t."
   ]
  },
  {
   "cell_type": "code",
   "execution_count": 14,
   "metadata": {},
   "outputs": [
    {
     "name": "stdout",
     "output_type": "stream",
     "text": [
      "Key not found!\n",
      "{'name': 'Ibrokhim', 'email': 'ibrokhim@gmail.com', 'age': 22}\n"
     ]
    }
   ],
   "source": [
    "person = {\n",
    "    'name': \"Ibrokhim\",\n",
    "    'email': 'ibrokhim@gmail.com',\n",
    "    'age': 22\n",
    "}\n",
    "\n",
    "key_to_remove = input(\"Input the key you want to remove: \")\n",
    "removed_value = person.pop(key_to_remove, \"Not found!\")\n",
    "\n",
    "if removed_value == \"Not found!\":\n",
    "    print(\"Key not found!\")\n",
    "else:\n",
    "    print(f\"Removed key: {key_to_remove}, Value: {removed_value}\")\n",
    "print(person)\n"
   ]
  },
  {
   "cell_type": "markdown",
   "metadata": {},
   "source": [
    "8. Clear Dictionary: Create a new empty dictionary."
   ]
  },
  {
   "cell_type": "code",
   "execution_count": 15,
   "metadata": {},
   "outputs": [
    {
     "name": "stdout",
     "output_type": "stream",
     "text": [
      "{}\n"
     ]
    }
   ],
   "source": [
    "person = {\n",
    "    'name': \"Ibrokhim\",\n",
    "    'email': 'ibrokhim@gmail.com',\n",
    "    'age': 22\n",
    "}\n",
    "person.clear()\n",
    "print(person)"
   ]
  },
  {
   "cell_type": "markdown",
   "metadata": {},
   "source": [
    "9. Check if Dictionary is Empty: Determine if a dictionary has any elements."
   ]
  },
  {
   "cell_type": "code",
   "execution_count": 16,
   "metadata": {},
   "outputs": [
    {
     "name": "stdout",
     "output_type": "stream",
     "text": [
      "Dictionary is empty\n"
     ]
    }
   ],
   "source": [
    "empty_or_not = {}\n",
    "\n",
    "if len(empty_or_not) == 0:\n",
    "    print(\"Dictionary is empty\")\n",
    "else:\n",
    "    print(\"Dictionary is not empty\")"
   ]
  },
  {
   "cell_type": "markdown",
   "metadata": {},
   "source": [
    "10. Get Key-Value Pair: Given a dictionary and a key, retrieve the key-value pair if the key exists."
   ]
  },
  {
   "cell_type": "code",
   "execution_count": 17,
   "metadata": {},
   "outputs": [
    {
     "name": "stdout",
     "output_type": "stream",
     "text": [
      "Key-Value pair is: ('name', 'Ibrokhim') \n"
     ]
    }
   ],
   "source": [
    "num_entries = int(input(\"Enter the number of key-value pairs: \"))\n",
    "\n",
    "user_dict = {}\n",
    "\n",
    "for _ in range(num_entries):\n",
    "    key = input(\"Enter a key: \")\n",
    "    value = input(\"Enter its value: \")\n",
    "    user_dict[key] = value \n",
    "\n",
    "search_key = input(\"Enter a key to check: \")\n",
    "\n",
    "if search_key in user_dict:\n",
    "    print(f\"Key-Value pair is: ('{search_key}', '{user_dict[search_key]}') \")\n",
    "else:\n",
    "    print(\"Key not found in the dictionary.\")"
   ]
  },
  {
   "cell_type": "markdown",
   "metadata": {},
   "source": [
    "11. Update Value: Given a dictionary, update the value for a specified key."
   ]
  },
  {
   "cell_type": "code",
   "execution_count": 20,
   "metadata": {},
   "outputs": [
    {
     "name": "stdout",
     "output_type": "stream",
     "text": [
      "Key updated successfully!\n",
      "{'name': 'lola'}\n"
     ]
    }
   ],
   "source": [
    "num_entries = int(input(\"Enter the number of key-value pairs: \"))\n",
    "\n",
    "user_dict = {}\n",
    "\n",
    "for _ in range(num_entries):\n",
    "    key = input(\"Enter a key: \")\n",
    "    value = input(\"Enter its value: \")\n",
    "    user_dict[key] = value \n",
    "\n",
    "search_key = input(\"Enter a key to change its value: \")\n",
    "\n",
    "if search_key in user_dict:\n",
    "    new_value = input(\"Enter the new value: \")\n",
    "    user_dict[search_key] = new_value  # Update value\n",
    "    print(\"Key updated successfully!\")\n",
    "else:\n",
    "    print(\"Key not found in the dictionary.\")\n",
    "\n",
    "print(user_dict)"
   ]
  },
  {
   "cell_type": "markdown",
   "metadata": {},
   "source": [
    "12. Count Value Occurrences: Given a dictionary, count how many times a specific value appears across the keys."
   ]
  },
  {
   "cell_type": "code",
   "execution_count": 22,
   "metadata": {},
   "outputs": [
    {
     "name": "stdout",
     "output_type": "stream",
     "text": [
      "Value 'ibrokhim' appears 3 times.\n"
     ]
    }
   ],
   "source": [
    "num_entries = int(input(\"Enter the number of key-value pairs: \"))\n",
    "\n",
    "user_dict = {}\n",
    "\n",
    "for _ in range(num_entries):\n",
    "    key = input(\"Enter a key: \")\n",
    "    value = input(\"Enter its value: \")\n",
    "    user_dict[key] = value \n",
    "\n",
    "search_value = input(\"Enter a value to count: \")\n",
    "\n",
    "count = list(user_dict.values()).count(search_value)\n",
    "print(f\"Value '{search_value}' appears {count} times.\")"
   ]
  },
  {
   "cell_type": "markdown",
   "metadata": {},
   "source": [
    "13. Invert Dictionary: Given a dictionary, create a new dictionary that swaps keys and values."
   ]
  },
  {
   "cell_type": "code",
   "execution_count": 23,
   "metadata": {},
   "outputs": [
    {
     "name": "stdout",
     "output_type": "stream",
     "text": [
      "{'ibrokhim': 'name', 'kamolov': 'lastname'}\n"
     ]
    }
   ],
   "source": [
    "num_entries = int(input(\"Enter the number of key-value pairs: \"))\n",
    "\n",
    "user_dict = {}\n",
    "\n",
    "for _ in range(num_entries):\n",
    "    key = input(\"Enter a key: \")\n",
    "    value = input(\"Enter its value: \")\n",
    "    user_dict[key] = value \n",
    "\n",
    "inverted_dict = dict(zip(user_dict.values(), user_dict.keys()))\n",
    "\n",
    "print(inverted_dict)"
   ]
  },
  {
   "cell_type": "markdown",
   "metadata": {},
   "source": [
    "14. Find Keys with Value: Given a dictionary and a value, create a list of all keys that have that value."
   ]
  },
  {
   "cell_type": "code",
   "execution_count": 24,
   "metadata": {},
   "outputs": [
    {
     "name": "stdout",
     "output_type": "stream",
     "text": [
      "Keys with value 'ibrokhim': ['name', 'lastname']\n"
     ]
    }
   ],
   "source": [
    "num_entries = int(input(\"Enter the number of key-value pairs: \"))\n",
    "\n",
    "user_dict = {}\n",
    "\n",
    "for _ in range(num_entries):\n",
    "    key = input(\"Enter a key: \")\n",
    "    value = input(\"Enter its value: \")\n",
    "    user_dict[key] = value \n",
    "\n",
    "search_value = input(\"Enter a value to count: \")\n",
    "\n",
    "matching_keys = []\n",
    "for key, value in user_dict.items():  \n",
    "    if value == search_value:  \n",
    "        matching_keys.append(key)\n",
    "\n",
    "if matching_keys:\n",
    "    print(f\"Keys with value '{search_value}': {matching_keys}\")\n",
    "else:\n",
    "    print(f\"No keys found with value '{search_value}'.\")"
   ]
  },
  {
   "cell_type": "markdown",
   "metadata": {},
   "source": [
    "15. Create a Dictionary from Lists: Given two lists (one of keys and one of values), create a dictionary that pairs them."
   ]
  },
  {
   "cell_type": "code",
   "execution_count": 25,
   "metadata": {},
   "outputs": [
    {
     "name": "stdout",
     "output_type": "stream",
     "text": [
      "{'person': 'ibrokhim', 'hello': '12', 'name': '15'}\n"
     ]
    }
   ],
   "source": [
    "keys_list = input(\"Give me key words for a dictionary: \").split()\n",
    "values_list = input(\"Give me key words for a dictionary: \").split()\n",
    "\n",
    "dic_from_lists = dict(zip(keys_list, values_list))\n",
    "\n",
    "print(dic_from_lists)"
   ]
  },
  {
   "cell_type": "markdown",
   "metadata": {},
   "source": [
    "16. Check for Nested Dictionaries: Given a dictionary, check if any values are also dictionaries."
   ]
  },
  {
   "cell_type": "code",
   "execution_count": 26,
   "metadata": {},
   "outputs": [
    {
     "name": "stdout",
     "output_type": "stream",
     "text": [
      "Contains nested dictionary: False\n"
     ]
    }
   ],
   "source": [
    "num_entries = int(input(\"Enter the number of key-value pairs: \"))\n",
    "\n",
    "user_dict = {}\n",
    "\n",
    "for _ in range(num_entries):\n",
    "    key = input(\"Enter a key: \")\n",
    "    value = input(\"Enter its value: \")\n",
    "\n",
    "    user_dict[key] = value\n",
    "\n",
    "has_nested = any(isinstance(value, dict) for value in user_dict.values())\n",
    "\n",
    "print(\"Contains nested dictionary:\", has_nested)"
   ]
  },
  {
   "cell_type": "markdown",
   "metadata": {},
   "source": [
    "17. Get Nested Value: Given a nested dictionary, retrieve a value from within one of the inner dictionaries."
   ]
  },
  {
   "cell_type": "code",
   "execution_count": 35,
   "metadata": {},
   "outputs": [
    {
     "name": "stdout",
     "output_type": "stream",
     "text": [
      "No nested value!!\n",
      "No nested value!!\n",
      "It has a nested value!\n",
      "{1: 12, 2: 123, 4: {5: 1234}}\n"
     ]
    }
   ],
   "source": [
    "#I somehow came up with this but it just checks every value and prints accordingly\n",
    "k1= 1\n",
    "k2= 2\n",
    "k3= 3\n",
    "k4= 4\n",
    "k5= 5\n",
    "user_dict = {\n",
    "    k1:12,\n",
    "    k2:123,\n",
    "    k4:{k5:1234}\n",
    "}\n",
    "\n",
    "\n",
    "for value in user_dict.values():  \n",
    "    if type(value) == dict:  \n",
    "        print(\"It has a nested value!\")\n",
    "    else:\n",
    "        print(\"No nested value!!\")\n",
    "\n",
    "print(user_dict)"
   ]
  },
  {
   "cell_type": "markdown",
   "metadata": {},
   "source": [
    "18. Create Default Dictionary: Create a dictionary that provides a default value for missing keys."
   ]
  },
  {
   "cell_type": "code",
   "execution_count": 36,
   "metadata": {},
   "outputs": [
    {
     "name": "stdout",
     "output_type": "stream",
     "text": [
      "{'name': 'ibr', 'default_key': 'ibrokhim'}\n"
     ]
    }
   ],
   "source": [
    "num_entries = int(input(\"Enter the number of key-value pairs: \"))\n",
    "\n",
    "user_dict = {}\n",
    "\n",
    "for _ in range(num_entries):\n",
    "    key = input(\"Enter a key: \") or \"default_key\"\n",
    "    value = input(\"Enter its value: \")\n",
    "    user_dict[key] = value \n",
    "\n",
    "print(user_dict)"
   ]
  },
  {
   "cell_type": "markdown",
   "metadata": {},
   "source": [
    "19. Count Unique Values: Given a dictionary, determine the number of unique values it contains."
   ]
  },
  {
   "cell_type": "code",
   "execution_count": 37,
   "metadata": {},
   "outputs": [
    {
     "name": "stdout",
     "output_type": "stream",
     "text": [
      "['ibrokhim']\n",
      "1\n"
     ]
    }
   ],
   "source": [
    "num_entries = int(input(\"Enter the number of key-value pairs: \"))\n",
    "\n",
    "user_dict = {}\n",
    "\n",
    "for _ in range(num_entries):\n",
    "    key = input(\"Enter a key: \") or \"default_key\"\n",
    "    value = input(\"Enter its value: \")\n",
    "    user_dict[key] = value \n",
    "\n",
    "list_dictionary_values = list(set(user_dict.values()))\n",
    "print(list_dictionary_values)\n",
    "print(len(list_dictionary_values))"
   ]
  },
  {
   "cell_type": "markdown",
   "metadata": {},
   "source": [
    "20. Sort Dictionary by Key: Create a new dictionary sorted by keys."
   ]
  },
  {
   "cell_type": "code",
   "execution_count": null,
   "metadata": {},
   "outputs": [
    {
     "name": "stdout",
     "output_type": "stream",
     "text": [
      "{'age': 25, 'email': 'alice@example.com', 'name': 'Alice'}\n"
     ]
    }
   ],
   "source": [
    "user_dict = {\n",
    "    'name': 'Alice',\n",
    "    'age': 25,\n",
    "    'email': 'alice@example.com'}\n",
    "\n",
    "sorted_dict = dict(sorted(user_dict.items())) \n",
    "\n",
    "print(sorted_dict)\n"
   ]
  },
  {
   "cell_type": "markdown",
   "metadata": {},
   "source": [
    "21. Sort Dictionary by Value: Create a new dictionary sorted by values."
   ]
  },
  {
   "cell_type": "code",
   "execution_count": 43,
   "metadata": {},
   "outputs": [
    {
     "name": "stdout",
     "output_type": "stream",
     "text": [
      "{'age': 25, 'name': 'Blice', 'email': 'Dlice@example.com'}\n"
     ]
    }
   ],
   "source": [
    "user_dict = {\n",
    "    'name': 'Blice',\n",
    "    'age': 25,\n",
    "    'email': 'Dlice@example.com'}\n",
    "\n",
    "sorted_dict = dict(sorted(user_dict.items(), key=lambda item: str(item[1]))) \n",
    "\n",
    "print(sorted_dict)"
   ]
  },
  {
   "cell_type": "markdown",
   "metadata": {},
   "source": [
    "22. Filter by Value: Given a dictionary, create a new dictionary that only includes items with values that meet a certain condition."
   ]
  },
  {
   "cell_type": "code",
   "execution_count": null,
   "metadata": {},
   "outputs": [],
   "source": [
    "num_dict = {\n",
    "    'a': 3, 'b': 6, 'c': 8, 'd': 11\n",
    "    }\n",
    "\n",
    "filtered_dict = {key: value for key, value in num_dict.items() if value % 2 == 0}\n",
    "\n",
    "print(filtered_dict)"
   ]
  },
  {
   "cell_type": "markdown",
   "metadata": {},
   "source": [
    "23. Check for Common Keys: Given two dictionaries, check if they have any keys in common."
   ]
  },
  {
   "cell_type": "code",
   "execution_count": null,
   "metadata": {},
   "outputs": [
    {
     "name": "stdout",
     "output_type": "stream",
     "text": [
      "Common keys: {'name'}\n"
     ]
    }
   ],
   "source": [
    "user_dict1 = {}\n",
    "\n",
    "for _ in range(1):\n",
    "    key = input(\"Enter a key: \") or \"default_key\"\n",
    "    value = input(\"Enter its value: \")\n",
    "    user_dict1[key] = value \n",
    "\n",
    "user_dict2 = {}\n",
    "\n",
    "for _ in range(1):\n",
    "    key = input(\"Enter a key: \") or \"default_key\"\n",
    "    value = input(\"Enter its value: \")\n",
    "    user_dict2[key] = value \n",
    "\n",
    "common_keys = set(user_dict1.keys()) & set(user_dict2.keys())\n",
    "\n",
    "print(\"Common keys:\", common_keys)\n"
   ]
  },
  {
   "cell_type": "markdown",
   "metadata": {},
   "source": [
    "24. Create Dictionary from Tuple: Given a tuple of key-value pairs, create a dictionary from it."
   ]
  },
  {
   "cell_type": "code",
   "execution_count": 46,
   "metadata": {},
   "outputs": [
    {
     "name": "stdout",
     "output_type": "stream",
     "text": [
      "Created Dictionary: {'name': 'ibrokhim'}\n"
     ]
    }
   ],
   "source": [
    "num_entries = int(input(\"Enter the number of key-value pairs: \"))\n",
    "\n",
    "tuple_data = []\n",
    "\n",
    "for _ in range(num_entries):\n",
    "    key = input(\"Enter key: \")\n",
    "    value = input(\"Enter value: \")\n",
    "    tuple_data.append((key, value))  \n",
    "\n",
    "dictionary = dict(tuple_data) \n",
    "\n",
    "print(\"Created Dictionary:\", dictionary)\n"
   ]
  },
  {
   "cell_type": "markdown",
   "metadata": {},
   "source": [
    "25. Get the First Key-Value Pair: Retrieve the first key-value pair from a dictionary."
   ]
  },
  {
   "cell_type": "code",
   "execution_count": null,
   "metadata": {},
   "outputs": [
    {
     "name": "stdout",
     "output_type": "stream",
     "text": [
      "First key-value pair: ('name', 'Alice')\n"
     ]
    }
   ],
   "source": [
    "my_dict = {\n",
    "    'name': 'Alice',\n",
    "    'age': 25,\n",
    "    'email': 'alice@example.com'\n",
    "}\n",
    "first_pair = list(my_dict.items())[0]\n",
    "\n",
    "print(\"First key-value pair:\", first_pair)\n"
   ]
  }
 ],
 "metadata": {
  "kernelspec": {
   "display_name": "Python 3",
   "language": "python",
   "name": "python3"
  },
  "language_info": {
   "codemirror_mode": {
    "name": "ipython",
    "version": 3
   },
   "file_extension": ".py",
   "mimetype": "text/x-python",
   "name": "python",
   "nbconvert_exporter": "python",
   "pygments_lexer": "ipython3",
   "version": "3.10.10"
  }
 },
 "nbformat": 4,
 "nbformat_minor": 2
}
